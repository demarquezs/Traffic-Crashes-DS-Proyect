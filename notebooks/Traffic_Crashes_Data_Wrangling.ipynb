{
  "cells": [
    {
      "cell_type": "markdown",
      "metadata": {
        "id": "RLvI8BzScBdy"
      },
      "source": [
        "<h1 align=\"center\">DATA WRANGLING TRAFFIC CRASHES</h1>"
      ]
    },
    {
      "cell_type": "markdown",
      "metadata": {
        "id": "oh-RkA6Cof24"
      },
      "source": [
        "<div style=\"text-align:center\">\n",
        "<img src=\"https://i.ibb.co/G3fw6xxV/hit-and-run.jpg\" alt=\"hit-and-run\" border=\"0\">\n",
        "</div>"
      ]
    },
    {
      "cell_type": "markdown",
      "metadata": {
        "id": "eNmLkO3voxM6"
      },
      "source": [
        "In this Jupyter Notebook, we'll process and clean the data of car crashes in Chicago city. The dataset, obtained from https://data.cityofchicago.org/Transportation/Traffic-Crashes-Crashes/85ca-t3if/about_data, contains some unstructured and uncategorized fields. Therefore, we have significant data processing ahead for our future analysis and machine learning model training."
      ]
    },
    {
      "cell_type": "markdown",
      "metadata": {
        "id": "RugpEz0cpSu2"
      },
      "source": [
        "## IMPORTING LIBRARIES"
      ]
    },
    {
      "cell_type": "markdown",
      "metadata": {
        "id": "nVUKyaOepalG"
      },
      "source": [
        "We’ll import the necessary libraries for the data wrangling:"
      ]
    },
    {
      "cell_type": "code",
      "execution_count": 1,
      "metadata": {
        "id": "bZqpe9O0Pxud"
      },
      "outputs": [],
      "source": [
        "import pandas as pd\n",
        "import numpy as np\n",
        "import os"
      ]
    },
    {
      "cell_type": "markdown",
      "metadata": {
        "id": "SZ8mRKt2rsS2"
      },
      "source": [
        "## DEFINING VISUALIZATION VALUES"
      ]
    },
    {
      "cell_type": "markdown",
      "metadata": {
        "id": "Hrz4Yylnrvkz"
      },
      "source": [
        "Next, let’s define the values that will affect the visualization options:"
      ]
    },
    {
      "cell_type": "code",
      "execution_count": 2,
      "metadata": {
        "id": "QeY-NbwCQb2A"
      },
      "outputs": [],
      "source": [
        "import warnings\n",
        "warnings.filterwarnings('ignore')"
      ]
    },
    {
      "cell_type": "markdown",
      "metadata": {
        "id": "910R2M_qry77"
      },
      "source": [
        "See all row and columns in the dataset:"
      ]
    },
    {
      "cell_type": "code",
      "execution_count": 3,
      "metadata": {
        "id": "fT9H3c20fvKw"
      },
      "outputs": [],
      "source": [
        "pd.set_option(\"display.max_columns\", None)"
      ]
    },
    {
      "cell_type": "markdown",
      "metadata": {
        "id": "oq59bTdYsNc2"
      },
      "source": [
        "Let's read the data obtained from https://data.cityofchicago.org/Transportation/Traffic-Crashes-Crashes/85ca-t3if/about_data:"
      ]
    },
    {
      "cell_type": "code",
      "execution_count": 5,
      "metadata": {
        "id": "jB6k4cxbRZfK"
      },
      "outputs": [
        {
          "data": {
            "text/html": [
              "<div>\n",
              "<style scoped>\n",
              "    .dataframe tbody tr th:only-of-type {\n",
              "        vertical-align: middle;\n",
              "    }\n",
              "\n",
              "    .dataframe tbody tr th {\n",
              "        vertical-align: top;\n",
              "    }\n",
              "\n",
              "    .dataframe thead th {\n",
              "        text-align: right;\n",
              "    }\n",
              "</style>\n",
              "<table border=\"1\" class=\"dataframe\">\n",
              "  <thead>\n",
              "    <tr style=\"text-align: right;\">\n",
              "      <th></th>\n",
              "      <th>CRASH_RECORD_ID</th>\n",
              "      <th>CRASH_DATE_EST_I</th>\n",
              "      <th>CRASH_DATE</th>\n",
              "      <th>POSTED_SPEED_LIMIT</th>\n",
              "      <th>TRAFFIC_CONTROL_DEVICE</th>\n",
              "      <th>DEVICE_CONDITION</th>\n",
              "      <th>WEATHER_CONDITION</th>\n",
              "      <th>LIGHTING_CONDITION</th>\n",
              "      <th>FIRST_CRASH_TYPE</th>\n",
              "      <th>TRAFFICWAY_TYPE</th>\n",
              "      <th>LANE_CNT</th>\n",
              "      <th>ALIGNMENT</th>\n",
              "      <th>ROADWAY_SURFACE_COND</th>\n",
              "      <th>ROAD_DEFECT</th>\n",
              "      <th>REPORT_TYPE</th>\n",
              "      <th>CRASH_TYPE</th>\n",
              "      <th>INTERSECTION_RELATED_I</th>\n",
              "      <th>NOT_RIGHT_OF_WAY_I</th>\n",
              "      <th>HIT_AND_RUN_I</th>\n",
              "      <th>DAMAGE</th>\n",
              "      <th>DATE_POLICE_NOTIFIED</th>\n",
              "      <th>PRIM_CONTRIBUTORY_CAUSE</th>\n",
              "      <th>SEC_CONTRIBUTORY_CAUSE</th>\n",
              "      <th>STREET_NO</th>\n",
              "      <th>STREET_DIRECTION</th>\n",
              "      <th>STREET_NAME</th>\n",
              "      <th>BEAT_OF_OCCURRENCE</th>\n",
              "      <th>PHOTOS_TAKEN_I</th>\n",
              "      <th>STATEMENTS_TAKEN_I</th>\n",
              "      <th>DOORING_I</th>\n",
              "      <th>WORK_ZONE_I</th>\n",
              "      <th>WORK_ZONE_TYPE</th>\n",
              "      <th>WORKERS_PRESENT_I</th>\n",
              "      <th>NUM_UNITS</th>\n",
              "      <th>MOST_SEVERE_INJURY</th>\n",
              "      <th>INJURIES_TOTAL</th>\n",
              "      <th>INJURIES_FATAL</th>\n",
              "      <th>INJURIES_INCAPACITATING</th>\n",
              "      <th>INJURIES_NON_INCAPACITATING</th>\n",
              "      <th>INJURIES_REPORTED_NOT_EVIDENT</th>\n",
              "      <th>INJURIES_NO_INDICATION</th>\n",
              "      <th>INJURIES_UNKNOWN</th>\n",
              "      <th>CRASH_HOUR</th>\n",
              "      <th>CRASH_DAY_OF_WEEK</th>\n",
              "      <th>CRASH_MONTH</th>\n",
              "      <th>LATITUDE</th>\n",
              "      <th>LONGITUDE</th>\n",
              "      <th>LOCATION</th>\n",
              "    </tr>\n",
              "  </thead>\n",
              "  <tbody>\n",
              "    <tr>\n",
              "      <th>0</th>\n",
              "      <td>6c1659069e9c6285a650e70d6f9b574ed5f64c12888479...</td>\n",
              "      <td>NaN</td>\n",
              "      <td>08/18/2023 12:50:00 PM</td>\n",
              "      <td>15</td>\n",
              "      <td>OTHER</td>\n",
              "      <td>FUNCTIONING PROPERLY</td>\n",
              "      <td>CLEAR</td>\n",
              "      <td>DAYLIGHT</td>\n",
              "      <td>REAR END</td>\n",
              "      <td>OTHER</td>\n",
              "      <td>NaN</td>\n",
              "      <td>STRAIGHT AND LEVEL</td>\n",
              "      <td>DRY</td>\n",
              "      <td>NO DEFECTS</td>\n",
              "      <td>ON SCENE</td>\n",
              "      <td>INJURY AND / OR TOW DUE TO CRASH</td>\n",
              "      <td>NaN</td>\n",
              "      <td>NaN</td>\n",
              "      <td>NaN</td>\n",
              "      <td>OVER $1,500</td>\n",
              "      <td>08/18/2023 12:55:00 PM</td>\n",
              "      <td>FOLLOWING TOO CLOSELY</td>\n",
              "      <td>DISTRACTION - FROM INSIDE VEHICLE</td>\n",
              "      <td>700</td>\n",
              "      <td>W</td>\n",
              "      <td>OHARE ST</td>\n",
              "      <td>1654.0</td>\n",
              "      <td>NaN</td>\n",
              "      <td>NaN</td>\n",
              "      <td>NaN</td>\n",
              "      <td>NaN</td>\n",
              "      <td>NaN</td>\n",
              "      <td>NaN</td>\n",
              "      <td>2</td>\n",
              "      <td>NONINCAPACITATING INJURY</td>\n",
              "      <td>1.0</td>\n",
              "      <td>0.0</td>\n",
              "      <td>0.0</td>\n",
              "      <td>1.0</td>\n",
              "      <td>0.0</td>\n",
              "      <td>1.0</td>\n",
              "      <td>0.0</td>\n",
              "      <td>12</td>\n",
              "      <td>6</td>\n",
              "      <td>8</td>\n",
              "      <td>NaN</td>\n",
              "      <td>NaN</td>\n",
              "      <td>NaN</td>\n",
              "    </tr>\n",
              "    <tr>\n",
              "      <th>1</th>\n",
              "      <td>5f54a59fcb087b12ae5b1acff96a3caf4f2d37e79f8db4...</td>\n",
              "      <td>NaN</td>\n",
              "      <td>07/29/2023 02:45:00 PM</td>\n",
              "      <td>30</td>\n",
              "      <td>TRAFFIC SIGNAL</td>\n",
              "      <td>FUNCTIONING PROPERLY</td>\n",
              "      <td>CLEAR</td>\n",
              "      <td>DAYLIGHT</td>\n",
              "      <td>PARKED MOTOR VEHICLE</td>\n",
              "      <td>DIVIDED - W/MEDIAN (NOT RAISED)</td>\n",
              "      <td>NaN</td>\n",
              "      <td>STRAIGHT AND LEVEL</td>\n",
              "      <td>DRY</td>\n",
              "      <td>NO DEFECTS</td>\n",
              "      <td>ON SCENE</td>\n",
              "      <td>NO INJURY / DRIVE AWAY</td>\n",
              "      <td>NaN</td>\n",
              "      <td>NaN</td>\n",
              "      <td>Y</td>\n",
              "      <td>OVER $1,500</td>\n",
              "      <td>07/29/2023 02:45:00 PM</td>\n",
              "      <td>FAILING TO REDUCE SPEED TO AVOID CRASH</td>\n",
              "      <td>OPERATING VEHICLE IN ERRATIC, RECKLESS, CARELE...</td>\n",
              "      <td>2101</td>\n",
              "      <td>S</td>\n",
              "      <td>ASHLAND AVE</td>\n",
              "      <td>1235.0</td>\n",
              "      <td>NaN</td>\n",
              "      <td>NaN</td>\n",
              "      <td>NaN</td>\n",
              "      <td>NaN</td>\n",
              "      <td>NaN</td>\n",
              "      <td>NaN</td>\n",
              "      <td>4</td>\n",
              "      <td>NO INDICATION OF INJURY</td>\n",
              "      <td>0.0</td>\n",
              "      <td>0.0</td>\n",
              "      <td>0.0</td>\n",
              "      <td>0.0</td>\n",
              "      <td>0.0</td>\n",
              "      <td>1.0</td>\n",
              "      <td>0.0</td>\n",
              "      <td>14</td>\n",
              "      <td>7</td>\n",
              "      <td>7</td>\n",
              "      <td>41.854120</td>\n",
              "      <td>-87.665902</td>\n",
              "      <td>POINT (-87.665902342962 41.854120262952)</td>\n",
              "    </tr>\n",
              "    <tr>\n",
              "      <th>2</th>\n",
              "      <td>61fcb8c1eb522a6469b460e2134df3d15f82e81fd93e9c...</td>\n",
              "      <td>NaN</td>\n",
              "      <td>08/18/2023 05:58:00 PM</td>\n",
              "      <td>30</td>\n",
              "      <td>NO CONTROLS</td>\n",
              "      <td>NO CONTROLS</td>\n",
              "      <td>CLEAR</td>\n",
              "      <td>DAYLIGHT</td>\n",
              "      <td>PEDALCYCLIST</td>\n",
              "      <td>NOT DIVIDED</td>\n",
              "      <td>NaN</td>\n",
              "      <td>STRAIGHT AND LEVEL</td>\n",
              "      <td>DRY</td>\n",
              "      <td>NO DEFECTS</td>\n",
              "      <td>ON SCENE</td>\n",
              "      <td>INJURY AND / OR TOW DUE TO CRASH</td>\n",
              "      <td>NaN</td>\n",
              "      <td>NaN</td>\n",
              "      <td>NaN</td>\n",
              "      <td>$501 - $1,500</td>\n",
              "      <td>08/18/2023 06:01:00 PM</td>\n",
              "      <td>FAILING TO REDUCE SPEED TO AVOID CRASH</td>\n",
              "      <td>UNABLE TO DETERMINE</td>\n",
              "      <td>3422</td>\n",
              "      <td>N</td>\n",
              "      <td>LONG AVE</td>\n",
              "      <td>1633.0</td>\n",
              "      <td>NaN</td>\n",
              "      <td>NaN</td>\n",
              "      <td>NaN</td>\n",
              "      <td>NaN</td>\n",
              "      <td>NaN</td>\n",
              "      <td>NaN</td>\n",
              "      <td>2</td>\n",
              "      <td>NONINCAPACITATING INJURY</td>\n",
              "      <td>1.0</td>\n",
              "      <td>0.0</td>\n",
              "      <td>0.0</td>\n",
              "      <td>1.0</td>\n",
              "      <td>0.0</td>\n",
              "      <td>1.0</td>\n",
              "      <td>0.0</td>\n",
              "      <td>17</td>\n",
              "      <td>6</td>\n",
              "      <td>8</td>\n",
              "      <td>41.942976</td>\n",
              "      <td>-87.761883</td>\n",
              "      <td>POINT (-87.761883496974 41.942975745006)</td>\n",
              "    </tr>\n",
              "    <tr>\n",
              "      <th>3</th>\n",
              "      <td>004cd14d0303a9163aad69a2d7f341b7da2a8572b2ab33...</td>\n",
              "      <td>NaN</td>\n",
              "      <td>11/26/2019 08:38:00 AM</td>\n",
              "      <td>25</td>\n",
              "      <td>NO CONTROLS</td>\n",
              "      <td>NO CONTROLS</td>\n",
              "      <td>CLEAR</td>\n",
              "      <td>DAYLIGHT</td>\n",
              "      <td>PEDESTRIAN</td>\n",
              "      <td>ONE-WAY</td>\n",
              "      <td>NaN</td>\n",
              "      <td>CURVE ON GRADE</td>\n",
              "      <td>DRY</td>\n",
              "      <td>NO DEFECTS</td>\n",
              "      <td>ON SCENE</td>\n",
              "      <td>INJURY AND / OR TOW DUE TO CRASH</td>\n",
              "      <td>NaN</td>\n",
              "      <td>NaN</td>\n",
              "      <td>NaN</td>\n",
              "      <td>OVER $1,500</td>\n",
              "      <td>11/26/2019 08:38:00 AM</td>\n",
              "      <td>UNABLE TO DETERMINE</td>\n",
              "      <td>NOT APPLICABLE</td>\n",
              "      <td>5</td>\n",
              "      <td>W</td>\n",
              "      <td>TERMINAL ST</td>\n",
              "      <td>1655.0</td>\n",
              "      <td>Y</td>\n",
              "      <td>Y</td>\n",
              "      <td>NaN</td>\n",
              "      <td>NaN</td>\n",
              "      <td>NaN</td>\n",
              "      <td>NaN</td>\n",
              "      <td>2</td>\n",
              "      <td>FATAL</td>\n",
              "      <td>1.0</td>\n",
              "      <td>1.0</td>\n",
              "      <td>0.0</td>\n",
              "      <td>0.0</td>\n",
              "      <td>0.0</td>\n",
              "      <td>1.0</td>\n",
              "      <td>0.0</td>\n",
              "      <td>8</td>\n",
              "      <td>3</td>\n",
              "      <td>11</td>\n",
              "      <td>NaN</td>\n",
              "      <td>NaN</td>\n",
              "      <td>NaN</td>\n",
              "    </tr>\n",
              "    <tr>\n",
              "      <th>4</th>\n",
              "      <td>a1d5f0ea90897745365a4cbb06cc60329a120d89753fac...</td>\n",
              "      <td>NaN</td>\n",
              "      <td>08/18/2023 10:45:00 AM</td>\n",
              "      <td>20</td>\n",
              "      <td>NO CONTROLS</td>\n",
              "      <td>NO CONTROLS</td>\n",
              "      <td>CLEAR</td>\n",
              "      <td>DAYLIGHT</td>\n",
              "      <td>FIXED OBJECT</td>\n",
              "      <td>OTHER</td>\n",
              "      <td>NaN</td>\n",
              "      <td>STRAIGHT AND LEVEL</td>\n",
              "      <td>DRY</td>\n",
              "      <td>NO DEFECTS</td>\n",
              "      <td>ON SCENE</td>\n",
              "      <td>NO INJURY / DRIVE AWAY</td>\n",
              "      <td>NaN</td>\n",
              "      <td>NaN</td>\n",
              "      <td>NaN</td>\n",
              "      <td>OVER $1,500</td>\n",
              "      <td>08/18/2023 10:48:00 AM</td>\n",
              "      <td>FOLLOWING TOO CLOSELY</td>\n",
              "      <td>DRIVING SKILLS/KNOWLEDGE/EXPERIENCE</td>\n",
              "      <td>3</td>\n",
              "      <td>W</td>\n",
              "      <td>TERMINAL ST</td>\n",
              "      <td>1653.0</td>\n",
              "      <td>NaN</td>\n",
              "      <td>NaN</td>\n",
              "      <td>NaN</td>\n",
              "      <td>NaN</td>\n",
              "      <td>NaN</td>\n",
              "      <td>NaN</td>\n",
              "      <td>1</td>\n",
              "      <td>NO INDICATION OF INJURY</td>\n",
              "      <td>0.0</td>\n",
              "      <td>0.0</td>\n",
              "      <td>0.0</td>\n",
              "      <td>0.0</td>\n",
              "      <td>0.0</td>\n",
              "      <td>1.0</td>\n",
              "      <td>0.0</td>\n",
              "      <td>10</td>\n",
              "      <td>6</td>\n",
              "      <td>8</td>\n",
              "      <td>NaN</td>\n",
              "      <td>NaN</td>\n",
              "      <td>NaN</td>\n",
              "    </tr>\n",
              "  </tbody>\n",
              "</table>\n",
              "</div>"
            ],
            "text/plain": [
              "                                     CRASH_RECORD_ID CRASH_DATE_EST_I  \\\n",
              "0  6c1659069e9c6285a650e70d6f9b574ed5f64c12888479...              NaN   \n",
              "1  5f54a59fcb087b12ae5b1acff96a3caf4f2d37e79f8db4...              NaN   \n",
              "2  61fcb8c1eb522a6469b460e2134df3d15f82e81fd93e9c...              NaN   \n",
              "3  004cd14d0303a9163aad69a2d7f341b7da2a8572b2ab33...              NaN   \n",
              "4  a1d5f0ea90897745365a4cbb06cc60329a120d89753fac...              NaN   \n",
              "\n",
              "               CRASH_DATE  POSTED_SPEED_LIMIT TRAFFIC_CONTROL_DEVICE  \\\n",
              "0  08/18/2023 12:50:00 PM                  15                  OTHER   \n",
              "1  07/29/2023 02:45:00 PM                  30         TRAFFIC SIGNAL   \n",
              "2  08/18/2023 05:58:00 PM                  30            NO CONTROLS   \n",
              "3  11/26/2019 08:38:00 AM                  25            NO CONTROLS   \n",
              "4  08/18/2023 10:45:00 AM                  20            NO CONTROLS   \n",
              "\n",
              "       DEVICE_CONDITION WEATHER_CONDITION LIGHTING_CONDITION  \\\n",
              "0  FUNCTIONING PROPERLY             CLEAR           DAYLIGHT   \n",
              "1  FUNCTIONING PROPERLY             CLEAR           DAYLIGHT   \n",
              "2           NO CONTROLS             CLEAR           DAYLIGHT   \n",
              "3           NO CONTROLS             CLEAR           DAYLIGHT   \n",
              "4           NO CONTROLS             CLEAR           DAYLIGHT   \n",
              "\n",
              "       FIRST_CRASH_TYPE                  TRAFFICWAY_TYPE  LANE_CNT  \\\n",
              "0              REAR END                            OTHER       NaN   \n",
              "1  PARKED MOTOR VEHICLE  DIVIDED - W/MEDIAN (NOT RAISED)       NaN   \n",
              "2          PEDALCYCLIST                      NOT DIVIDED       NaN   \n",
              "3            PEDESTRIAN                          ONE-WAY       NaN   \n",
              "4          FIXED OBJECT                            OTHER       NaN   \n",
              "\n",
              "            ALIGNMENT ROADWAY_SURFACE_COND ROAD_DEFECT REPORT_TYPE  \\\n",
              "0  STRAIGHT AND LEVEL                  DRY  NO DEFECTS    ON SCENE   \n",
              "1  STRAIGHT AND LEVEL                  DRY  NO DEFECTS    ON SCENE   \n",
              "2  STRAIGHT AND LEVEL                  DRY  NO DEFECTS    ON SCENE   \n",
              "3      CURVE ON GRADE                  DRY  NO DEFECTS    ON SCENE   \n",
              "4  STRAIGHT AND LEVEL                  DRY  NO DEFECTS    ON SCENE   \n",
              "\n",
              "                         CRASH_TYPE INTERSECTION_RELATED_I NOT_RIGHT_OF_WAY_I  \\\n",
              "0  INJURY AND / OR TOW DUE TO CRASH                    NaN                NaN   \n",
              "1            NO INJURY / DRIVE AWAY                    NaN                NaN   \n",
              "2  INJURY AND / OR TOW DUE TO CRASH                    NaN                NaN   \n",
              "3  INJURY AND / OR TOW DUE TO CRASH                    NaN                NaN   \n",
              "4            NO INJURY / DRIVE AWAY                    NaN                NaN   \n",
              "\n",
              "  HIT_AND_RUN_I         DAMAGE    DATE_POLICE_NOTIFIED  \\\n",
              "0           NaN    OVER $1,500  08/18/2023 12:55:00 PM   \n",
              "1             Y    OVER $1,500  07/29/2023 02:45:00 PM   \n",
              "2           NaN  $501 - $1,500  08/18/2023 06:01:00 PM   \n",
              "3           NaN    OVER $1,500  11/26/2019 08:38:00 AM   \n",
              "4           NaN    OVER $1,500  08/18/2023 10:48:00 AM   \n",
              "\n",
              "                  PRIM_CONTRIBUTORY_CAUSE  \\\n",
              "0                   FOLLOWING TOO CLOSELY   \n",
              "1  FAILING TO REDUCE SPEED TO AVOID CRASH   \n",
              "2  FAILING TO REDUCE SPEED TO AVOID CRASH   \n",
              "3                     UNABLE TO DETERMINE   \n",
              "4                   FOLLOWING TOO CLOSELY   \n",
              "\n",
              "                              SEC_CONTRIBUTORY_CAUSE  STREET_NO  \\\n",
              "0                  DISTRACTION - FROM INSIDE VEHICLE        700   \n",
              "1  OPERATING VEHICLE IN ERRATIC, RECKLESS, CARELE...       2101   \n",
              "2                                UNABLE TO DETERMINE       3422   \n",
              "3                                     NOT APPLICABLE          5   \n",
              "4                DRIVING SKILLS/KNOWLEDGE/EXPERIENCE          3   \n",
              "\n",
              "  STREET_DIRECTION  STREET_NAME  BEAT_OF_OCCURRENCE PHOTOS_TAKEN_I  \\\n",
              "0                W     OHARE ST              1654.0            NaN   \n",
              "1                S  ASHLAND AVE              1235.0            NaN   \n",
              "2                N     LONG AVE              1633.0            NaN   \n",
              "3                W  TERMINAL ST              1655.0              Y   \n",
              "4                W  TERMINAL ST              1653.0            NaN   \n",
              "\n",
              "  STATEMENTS_TAKEN_I DOORING_I WORK_ZONE_I WORK_ZONE_TYPE WORKERS_PRESENT_I  \\\n",
              "0                NaN       NaN         NaN            NaN               NaN   \n",
              "1                NaN       NaN         NaN            NaN               NaN   \n",
              "2                NaN       NaN         NaN            NaN               NaN   \n",
              "3                  Y       NaN         NaN            NaN               NaN   \n",
              "4                NaN       NaN         NaN            NaN               NaN   \n",
              "\n",
              "   NUM_UNITS        MOST_SEVERE_INJURY  INJURIES_TOTAL  INJURIES_FATAL  \\\n",
              "0          2  NONINCAPACITATING INJURY             1.0             0.0   \n",
              "1          4   NO INDICATION OF INJURY             0.0             0.0   \n",
              "2          2  NONINCAPACITATING INJURY             1.0             0.0   \n",
              "3          2                     FATAL             1.0             1.0   \n",
              "4          1   NO INDICATION OF INJURY             0.0             0.0   \n",
              "\n",
              "   INJURIES_INCAPACITATING  INJURIES_NON_INCAPACITATING  \\\n",
              "0                      0.0                          1.0   \n",
              "1                      0.0                          0.0   \n",
              "2                      0.0                          1.0   \n",
              "3                      0.0                          0.0   \n",
              "4                      0.0                          0.0   \n",
              "\n",
              "   INJURIES_REPORTED_NOT_EVIDENT  INJURIES_NO_INDICATION  INJURIES_UNKNOWN  \\\n",
              "0                            0.0                     1.0               0.0   \n",
              "1                            0.0                     1.0               0.0   \n",
              "2                            0.0                     1.0               0.0   \n",
              "3                            0.0                     1.0               0.0   \n",
              "4                            0.0                     1.0               0.0   \n",
              "\n",
              "   CRASH_HOUR  CRASH_DAY_OF_WEEK  CRASH_MONTH   LATITUDE  LONGITUDE  \\\n",
              "0          12                  6            8        NaN        NaN   \n",
              "1          14                  7            7  41.854120 -87.665902   \n",
              "2          17                  6            8  41.942976 -87.761883   \n",
              "3           8                  3           11        NaN        NaN   \n",
              "4          10                  6            8        NaN        NaN   \n",
              "\n",
              "                                   LOCATION  \n",
              "0                                       NaN  \n",
              "1  POINT (-87.665902342962 41.854120262952)  \n",
              "2  POINT (-87.761883496974 41.942975745006)  \n",
              "3                                       NaN  \n",
              "4                                       NaN  "
            ]
          },
          "execution_count": 5,
          "metadata": {},
          "output_type": "execute_result"
        }
      ],
      "source": [
        "project_dir = os.path.abspath(os.path.join(os.getcwd(), os.pardir))\n",
        "data_dir = os.path.join(project_dir, \"data\", \"external\")\n",
        "os.makedirs(data_dir, exist_ok=True)\n",
        "\n",
        "output_path = os.path.join(data_dir,'Traffic_Crashes_-_Crashes.csv')\n",
        "df=pd.read_csv(output_path)\n",
        "df.head(5)"
      ]
    },
    {
      "cell_type": "code",
      "execution_count": 6,
      "metadata": {
        "colab": {
          "base_uri": "https://localhost:8080/"
        },
        "id": "mXZF08JmRksc",
        "outputId": "08804751-f6e3-42fe-f1ea-2a4fe99c2e77"
      },
      "outputs": [
        {
          "data": {
            "text/plain": [
              "(913830, 48)"
            ]
          },
          "execution_count": 6,
          "metadata": {},
          "output_type": "execute_result"
        }
      ],
      "source": [
        "df.shape"
      ]
    },
    {
      "cell_type": "markdown",
      "metadata": {
        "id": "LPnvylgFsgRf"
      },
      "source": [
        "## DATA WRANGLING"
      ]
    },
    {
      "cell_type": "markdown",
      "metadata": {
        "id": "inKTpdsYtAAB"
      },
      "source": [
        "Let's see data types and NaN/Null values percentage:"
      ]
    },
    {
      "cell_type": "code",
      "execution_count": 7,
      "metadata": {
        "colab": {
          "base_uri": "https://localhost:8080/",
          "height": 1000
        },
        "id": "VATjxfdoRiYj",
        "outputId": "f363fb85-f363-4e56-ffee-d694c05cf92a"
      },
      "outputs": [
        {
          "data": {
            "text/plain": [
              "CRASH_RECORD_ID                   object\n",
              "CRASH_DATE_EST_I                  object\n",
              "CRASH_DATE                        object\n",
              "POSTED_SPEED_LIMIT                 int64\n",
              "TRAFFIC_CONTROL_DEVICE            object\n",
              "DEVICE_CONDITION                  object\n",
              "WEATHER_CONDITION                 object\n",
              "LIGHTING_CONDITION                object\n",
              "FIRST_CRASH_TYPE                  object\n",
              "TRAFFICWAY_TYPE                   object\n",
              "LANE_CNT                         float64\n",
              "ALIGNMENT                         object\n",
              "ROADWAY_SURFACE_COND              object\n",
              "ROAD_DEFECT                       object\n",
              "REPORT_TYPE                       object\n",
              "CRASH_TYPE                        object\n",
              "INTERSECTION_RELATED_I            object\n",
              "NOT_RIGHT_OF_WAY_I                object\n",
              "HIT_AND_RUN_I                     object\n",
              "DAMAGE                            object\n",
              "DATE_POLICE_NOTIFIED              object\n",
              "PRIM_CONTRIBUTORY_CAUSE           object\n",
              "SEC_CONTRIBUTORY_CAUSE            object\n",
              "STREET_NO                          int64\n",
              "STREET_DIRECTION                  object\n",
              "STREET_NAME                       object\n",
              "BEAT_OF_OCCURRENCE               float64\n",
              "PHOTOS_TAKEN_I                    object\n",
              "STATEMENTS_TAKEN_I                object\n",
              "DOORING_I                         object\n",
              "WORK_ZONE_I                       object\n",
              "WORK_ZONE_TYPE                    object\n",
              "WORKERS_PRESENT_I                 object\n",
              "NUM_UNITS                          int64\n",
              "MOST_SEVERE_INJURY                object\n",
              "INJURIES_TOTAL                   float64\n",
              "INJURIES_FATAL                   float64\n",
              "INJURIES_INCAPACITATING          float64\n",
              "INJURIES_NON_INCAPACITATING      float64\n",
              "INJURIES_REPORTED_NOT_EVIDENT    float64\n",
              "INJURIES_NO_INDICATION           float64\n",
              "INJURIES_UNKNOWN                 float64\n",
              "CRASH_HOUR                         int64\n",
              "CRASH_DAY_OF_WEEK                  int64\n",
              "CRASH_MONTH                        int64\n",
              "LATITUDE                         float64\n",
              "LONGITUDE                        float64\n",
              "LOCATION                          object\n",
              "dtype: object"
            ]
          },
          "execution_count": 7,
          "metadata": {},
          "output_type": "execute_result"
        }
      ],
      "source": [
        "df.dtypes"
      ]
    },
    {
      "cell_type": "code",
      "execution_count": 8,
      "metadata": {
        "colab": {
          "base_uri": "https://localhost:8080/",
          "height": 1000
        },
        "id": "ZdTGioNURkFH",
        "outputId": "96a0febc-2e70-46cb-ca88-072056a78eb9"
      },
      "outputs": [
        {
          "data": {
            "text/plain": [
              "CRASH_RECORD_ID                   0.000000\n",
              "CRASH_DATE_EST_I                 92.629154\n",
              "CRASH_DATE                        0.000000\n",
              "POSTED_SPEED_LIMIT                0.000000\n",
              "TRAFFIC_CONTROL_DEVICE            0.000000\n",
              "DEVICE_CONDITION                  0.000000\n",
              "WEATHER_CONDITION                 0.000000\n",
              "LIGHTING_CONDITION                0.000000\n",
              "FIRST_CRASH_TYPE                  0.000000\n",
              "TRAFFICWAY_TYPE                   0.000000\n",
              "LANE_CNT                         78.221004\n",
              "ALIGNMENT                         0.000000\n",
              "ROADWAY_SURFACE_COND              0.000000\n",
              "ROAD_DEFECT                       0.000000\n",
              "REPORT_TYPE                       3.138330\n",
              "CRASH_TYPE                        0.000000\n",
              "INTERSECTION_RELATED_I           77.010275\n",
              "NOT_RIGHT_OF_WAY_I               95.453531\n",
              "HIT_AND_RUN_I                    68.642089\n",
              "DAMAGE                            0.000000\n",
              "DATE_POLICE_NOTIFIED              0.000000\n",
              "PRIM_CONTRIBUTORY_CAUSE           0.000000\n",
              "SEC_CONTRIBUTORY_CAUSE            0.000000\n",
              "STREET_NO                         0.000000\n",
              "STREET_DIRECTION                  0.000438\n",
              "STREET_NAME                       0.000109\n",
              "BEAT_OF_OCCURRENCE                0.000547\n",
              "PHOTOS_TAKEN_I                   98.626003\n",
              "STATEMENTS_TAKEN_I               97.684033\n",
              "DOORING_I                        99.685609\n",
              "WORK_ZONE_I                      99.446068\n",
              "WORK_ZONE_TYPE                   99.572787\n",
              "WORKERS_PRESENT_I                99.857413\n",
              "NUM_UNITS                         0.000000\n",
              "MOST_SEVERE_INJURY                0.220063\n",
              "INJURIES_TOTAL                    0.218531\n",
              "INJURIES_FATAL                    0.218531\n",
              "INJURIES_INCAPACITATING           0.218531\n",
              "INJURIES_NON_INCAPACITATING       0.218531\n",
              "INJURIES_REPORTED_NOT_EVIDENT     0.218531\n",
              "INJURIES_NO_INDICATION            0.218531\n",
              "INJURIES_UNKNOWN                  0.218531\n",
              "CRASH_HOUR                        0.000000\n",
              "CRASH_DAY_OF_WEEK                 0.000000\n",
              "CRASH_MONTH                       0.000000\n",
              "LATITUDE                          0.728472\n",
              "LONGITUDE                         0.728472\n",
              "LOCATION                          0.728472\n",
              "dtype: float64"
            ]
          },
          "execution_count": 8,
          "metadata": {},
          "output_type": "execute_result"
        }
      ],
      "source": [
        "df.isna().sum()/df.shape[0]*100"
      ]
    },
    {
      "cell_type": "markdown",
      "metadata": {
        "id": "PwWjDjFntJGz"
      },
      "source": [
        "We can drop the columns that don't add value and have several NaN/Null records:"
      ]
    },
    {
      "cell_type": "code",
      "execution_count": 9,
      "metadata": {
        "colab": {
          "base_uri": "https://localhost:8080/"
        },
        "id": "dEOX-zX8UKDH",
        "outputId": "28968950-1118-42c9-d49b-1f6fe16d5fd9"
      },
      "outputs": [
        {
          "data": {
            "text/plain": [
              "(913830, 32)"
            ]
          },
          "execution_count": 9,
          "metadata": {},
          "output_type": "execute_result"
        }
      ],
      "source": [
        "df.drop(columns=['CRASH_RECORD_ID','CRASH_DATE_EST_I', 'LANE_CNT', 'INTERSECTION_RELATED_I', 'NOT_RIGHT_OF_WAY_I', 'STREET_NO',\t'STREET_DIRECTION',\t'STREET_NAME',\n",
        "                 'BEAT_OF_OCCURRENCE', 'PHOTOS_TAKEN_I', 'STATEMENTS_TAKEN_I','DOORING_I', 'WORK_ZONE_I', 'WORK_ZONE_TYPE', 'WORKERS_PRESENT_I', 'LOCATION'], inplace=True),\n",
        "\n",
        "df.shape"
      ]
    },
    {
      "cell_type": "markdown",
      "metadata": {
        "id": "OEj8G9_Ctgr2"
      },
      "source": [
        "The following functions will help us to examine column information, replace values and create new date columns:"
      ]
    },
    {
      "cell_type": "code",
      "execution_count": 10,
      "metadata": {
        "id": "uD7Z6y1wazp4"
      },
      "outputs": [],
      "source": [
        "def print_function(df, column):\n",
        "  print(df[column].unique())\n",
        "  print(\"-\"*100)\n",
        "  print(df[column].value_counts().sort_index())"
      ]
    },
    {
      "cell_type": "code",
      "execution_count": 11,
      "metadata": {
        "id": "ZO_genEMd1pQ"
      },
      "outputs": [],
      "source": [
        "def unify_other_unknown(df, column):\n",
        "  df[column].replace(['OTHER', 'UNKNOWN'], 'OTHER/UNKNOWN', inplace=True)"
      ]
    },
    {
      "cell_type": "code",
      "execution_count": 12,
      "metadata": {
        "id": "v6isjXiBimFW"
      },
      "outputs": [],
      "source": [
        "def extract_date(df, new_column, old_column, srt1,str2):\n",
        "  df[new_column]=df[old_column].str[srt1:str2]\n",
        "  df[new_column]=pd.to_numeric(df[new_column])\n",
        "  df[new_column].value_counts().sort_index()"
      ]
    },
    {
      "cell_type": "markdown",
      "metadata": {
        "id": "t4-2782ft124"
      },
      "source": [
        "Let's create year column:"
      ]
    },
    {
      "cell_type": "code",
      "execution_count": 13,
      "metadata": {
        "id": "7TdW3GwLXDW1"
      },
      "outputs": [],
      "source": [
        "extract_date(df, 'CRASH_YEAR', 'CRASH_DATE', 6, 10)"
      ]
    },
    {
      "cell_type": "code",
      "execution_count": 14,
      "metadata": {
        "colab": {
          "base_uri": "https://localhost:8080/",
          "height": 523
        },
        "id": "ZkGYy_81lfcJ",
        "outputId": "62f50c90-b29b-4668-9683-85c35b3fe7f6"
      },
      "outputs": [
        {
          "data": {
            "text/plain": [
              "CRASH_YEAR\n",
              "2013         2\n",
              "2014         6\n",
              "2015      9830\n",
              "2016     44297\n",
              "2017     83786\n",
              "2018    118950\n",
              "2019    117762\n",
              "2020     92094\n",
              "2021    108765\n",
              "2022    108411\n",
              "2023    110747\n",
              "2024    112018\n",
              "2025      7162\n",
              "Name: count, dtype: int64"
            ]
          },
          "execution_count": 14,
          "metadata": {},
          "output_type": "execute_result"
        }
      ],
      "source": [
        "df['CRASH_YEAR'].value_counts().sort_index()"
      ]
    },
    {
      "cell_type": "markdown",
      "metadata": {
        "id": "KhiHHaS7uB3p"
      },
      "source": [
        "2013, 2014, and 2025 have fewer records, so let's remove these years:"
      ]
    },
    {
      "cell_type": "code",
      "execution_count": 15,
      "metadata": {
        "colab": {
          "base_uri": "https://localhost:8080/"
        },
        "id": "f9oQ3eh4ZrWV",
        "outputId": "9de57f1c-0351-48c9-8a18-2167323d2f45"
      },
      "outputs": [
        {
          "data": {
            "text/plain": [
              "array([2023, 2019, 2022, 2020, 2021, 2018, 2016, 2017, 2015, 2024],\n",
              "      dtype=int64)"
            ]
          },
          "execution_count": 15,
          "metadata": {},
          "output_type": "execute_result"
        }
      ],
      "source": [
        "years_to_remove = [2013, 2014, 2025]\n",
        "df = df[~df['CRASH_YEAR'].isin(years_to_remove)]\n",
        "df['CRASH_YEAR'].unique()"
      ]
    },
    {
      "cell_type": "markdown",
      "metadata": {
        "id": "exGQJOdfuZs6"
      },
      "source": [
        "We can drop the \"CRASH DATE\" column, as it will not be useful for data analysis and ML modeling:"
      ]
    },
    {
      "cell_type": "code",
      "execution_count": 16,
      "metadata": {
        "id": "a2e_cD7GagOg"
      },
      "outputs": [],
      "source": [
        "df.drop(columns=['CRASH_DATE'], inplace=True)"
      ]
    },
    {
      "cell_type": "markdown",
      "metadata": {
        "id": "gSVtfaxyvHCl"
      },
      "source": [
        "Now, we need to examine each column for data categorization and standardization:"
      ]
    },
    {
      "cell_type": "markdown",
      "metadata": {
        "id": "W65X_TvTvKJ_"
      },
      "source": [
        "### POSTED SPEED LIMIT"
      ]
    },
    {
      "cell_type": "code",
      "execution_count": 17,
      "metadata": {
        "colab": {
          "base_uri": "https://localhost:8080/"
        },
        "id": "CAYNU4KSamKO",
        "outputId": "43dd50a7-2c86-4e5b-e88d-3f0134102773"
      },
      "outputs": [
        {
          "name": "stdout",
          "output_type": "stream",
          "text": [
            "[15 30 25 20 35 10 40 45 55  5 50  0 60  3 65 39  9 22 70 18 99  1 26  2\n",
            " 24 34  6 14 23 11 32 12 33  7 36 49  8 63 29 38 16 44 62  4 31 46]\n",
            "----------------------------------------------------------------------------------------------------\n",
            "POSTED_SPEED_LIMIT\n",
            "0       7591\n",
            "1         41\n",
            "2         31\n",
            "3        222\n",
            "4          2\n",
            "5       4977\n",
            "6          7\n",
            "7          6\n",
            "8          2\n",
            "9         96\n",
            "10     21221\n",
            "11        11\n",
            "12         4\n",
            "14         4\n",
            "15     32317\n",
            "16         2\n",
            "18         4\n",
            "20     37958\n",
            "22         4\n",
            "23         3\n",
            "24        38\n",
            "25     58187\n",
            "26        11\n",
            "29         3\n",
            "30    667879\n",
            "31         2\n",
            "32        20\n",
            "33        14\n",
            "34        16\n",
            "35     59887\n",
            "36         8\n",
            "38         2\n",
            "39        97\n",
            "40      8685\n",
            "44         1\n",
            "45      5988\n",
            "46         1\n",
            "49         1\n",
            "50       281\n",
            "55       888\n",
            "60        53\n",
            "62         1\n",
            "63         1\n",
            "65        20\n",
            "70         7\n",
            "99        66\n",
            "Name: count, dtype: int64\n"
          ]
        }
      ],
      "source": [
        "print_function(df, 'POSTED_SPEED_LIMIT')"
      ]
    },
    {
      "cell_type": "markdown",
      "metadata": {
        "id": "CKDaIyi-vVCw"
      },
      "source": [
        "We can remove records lower than 5 mph, as speed limits below this value do not exist:"
      ]
    },
    {
      "cell_type": "code",
      "execution_count": 18,
      "metadata": {
        "colab": {
          "base_uri": "https://localhost:8080/"
        },
        "id": "g__NIFg0cob2",
        "outputId": "87237a35-1f42-4c51-9750-8d230278e0be"
      },
      "outputs": [
        {
          "name": "stdout",
          "output_type": "stream",
          "text": [
            "[15 30 25 20 35 10 40 45 55  5 50 60 65 39  9 22 70 18 99 26 24 34  6 14\n",
            " 23 11 32 12 33  7 36 49  8 63 29 38 16 44 62 31 46]\n",
            "----------------------------------------------------------------------------------------------------\n",
            "POSTED_SPEED_LIMIT\n",
            "5       4977\n",
            "6          7\n",
            "7          6\n",
            "8          2\n",
            "9         96\n",
            "10     21221\n",
            "11        11\n",
            "12         4\n",
            "14         4\n",
            "15     32317\n",
            "16         2\n",
            "18         4\n",
            "20     37958\n",
            "22         4\n",
            "23         3\n",
            "24        38\n",
            "25     58187\n",
            "26        11\n",
            "29         3\n",
            "30    667879\n",
            "31         2\n",
            "32        20\n",
            "33        14\n",
            "34        16\n",
            "35     59887\n",
            "36         8\n",
            "38         2\n",
            "39        97\n",
            "40      8685\n",
            "44         1\n",
            "45      5988\n",
            "46         1\n",
            "49         1\n",
            "50       281\n",
            "55       888\n",
            "60        53\n",
            "62         1\n",
            "63         1\n",
            "65        20\n",
            "70         7\n",
            "99        66\n",
            "Name: count, dtype: int64\n"
          ]
        }
      ],
      "source": [
        "df = df[df['POSTED_SPEED_LIMIT'] >= 5]\n",
        "\n",
        "print_function(df, 'POSTED_SPEED_LIMIT')"
      ]
    },
    {
      "cell_type": "markdown",
      "metadata": {
        "id": "Wp7K0u4Tv0pC"
      },
      "source": [
        "### TRAFFIC CONTROL DEVICE"
      ]
    },
    {
      "cell_type": "code",
      "execution_count": 19,
      "metadata": {
        "colab": {
          "base_uri": "https://localhost:8080/"
        },
        "id": "ZapAZnVSct_H",
        "outputId": "9e892431-f003-4612-b7db-c464d4f967b5"
      },
      "outputs": [
        {
          "name": "stdout",
          "output_type": "stream",
          "text": [
            "['OTHER' 'TRAFFIC SIGNAL' 'NO CONTROLS' 'STOP SIGN/FLASHER' 'UNKNOWN'\n",
            " 'OTHER WARNING SIGN' 'OTHER REG. SIGN' 'YIELD' 'PEDESTRIAN CROSSING SIGN'\n",
            " 'LANE USE MARKING' 'RAILROAD CROSSING GATE' 'FLASHING CONTROL SIGNAL'\n",
            " 'SCHOOL ZONE' 'POLICE/FLAGMAN' 'DELINEATORS' 'OTHER RAILROAD CROSSING'\n",
            " 'RR CROSSING SIGN' 'NO PASSING' 'BICYCLE CROSSING SIGN']\n",
            "----------------------------------------------------------------------------------------------------\n",
            "TRAFFIC_CONTROL_DEVICE\n",
            "BICYCLE CROSSING SIGN           35\n",
            "DELINEATORS                    351\n",
            "FLASHING CONTROL SIGNAL        380\n",
            "LANE USE MARKING              1213\n",
            "NO CONTROLS                 507123\n",
            "NO PASSING                      59\n",
            "OTHER                         6052\n",
            "OTHER RAILROAD CROSSING        189\n",
            "OTHER REG. SIGN               1101\n",
            "OTHER WARNING SIGN             718\n",
            "PEDESTRIAN CROSSING SIGN       645\n",
            "POLICE/FLAGMAN                 310\n",
            "RAILROAD CROSSING GATE         579\n",
            "RR CROSSING SIGN               199\n",
            "SCHOOL ZONE                    355\n",
            "STOP SIGN/FLASHER            89428\n",
            "TRAFFIC SIGNAL              250188\n",
            "UNKNOWN                      38479\n",
            "YIELD                         1369\n",
            "Name: count, dtype: int64\n"
          ]
        }
      ],
      "source": [
        "print_function(df, 'TRAFFIC_CONTROL_DEVICE')"
      ]
    },
    {
      "cell_type": "markdown",
      "metadata": {
        "id": "ZOejAixAaUx_"
      },
      "source": [
        "Let's unify the other/unknown column categories:"
      ]
    },
    {
      "cell_type": "code",
      "execution_count": 20,
      "metadata": {
        "colab": {
          "base_uri": "https://localhost:8080/"
        },
        "id": "uQLoblSheSYq",
        "outputId": "6162f71e-cfb6-4aaa-b297-4c9b1ee56804"
      },
      "outputs": [
        {
          "data": {
            "text/plain": [
              "array(['OTHER/UNKNOWN', 'TRAFFIC SIGNAL', 'NO CONTROLS',\n",
              "       'STOP SIGN/FLASHER', 'OTHER WARNING SIGN', 'OTHER REG. SIGN',\n",
              "       'YIELD', 'PEDESTRIAN CROSSING SIGN', 'LANE USE MARKING',\n",
              "       'RAILROAD CROSSING GATE', 'FLASHING CONTROL SIGNAL', 'SCHOOL ZONE',\n",
              "       'POLICE/FLAGMAN', 'DELINEATORS', 'OTHER RAILROAD CROSSING',\n",
              "       'RR CROSSING SIGN', 'NO PASSING', 'BICYCLE CROSSING SIGN'],\n",
              "      dtype=object)"
            ]
          },
          "execution_count": 20,
          "metadata": {},
          "output_type": "execute_result"
        }
      ],
      "source": [
        "unify_other_unknown(df, 'TRAFFIC_CONTROL_DEVICE')\n",
        "df['TRAFFIC_CONTROL_DEVICE'].unique()"
      ]
    },
    {
      "cell_type": "markdown",
      "metadata": {
        "id": "mBKm9HwAaq3C"
      },
      "source": [
        "### DEVICE CONDITION"
      ]
    },
    {
      "cell_type": "code",
      "execution_count": 21,
      "metadata": {
        "colab": {
          "base_uri": "https://localhost:8080/"
        },
        "id": "k67x6L1bdh1C",
        "outputId": "b7e23d0b-2b1b-42be-fc96-a63779cfde67"
      },
      "outputs": [
        {
          "name": "stdout",
          "output_type": "stream",
          "text": [
            "['FUNCTIONING PROPERLY' 'NO CONTROLS' 'FUNCTIONING IMPROPERLY' 'UNKNOWN'\n",
            " 'OTHER' 'NOT FUNCTIONING' 'MISSING' 'WORN REFLECTIVE MATERIAL']\n",
            "----------------------------------------------------------------------------------------------------\n",
            "DEVICE_CONDITION\n",
            "FUNCTIONING IMPROPERLY        4085\n",
            "FUNCTIONING PROPERLY        307995\n",
            "MISSING                         97\n",
            "NO CONTROLS                 513221\n",
            "NOT FUNCTIONING               2553\n",
            "OTHER                         6788\n",
            "UNKNOWN                      63745\n",
            "WORN REFLECTIVE MATERIAL       289\n",
            "Name: count, dtype: int64\n"
          ]
        }
      ],
      "source": [
        "print_function(df, 'DEVICE_CONDITION')"
      ]
    },
    {
      "cell_type": "markdown",
      "metadata": {
        "id": "wRkdpRsRax5T"
      },
      "source": [
        "We can unify the other/unknown column categories:"
      ]
    },
    {
      "cell_type": "code",
      "execution_count": 22,
      "metadata": {
        "colab": {
          "base_uri": "https://localhost:8080/"
        },
        "id": "ADJxXyN_eifB",
        "outputId": "c7c6c0fe-5423-4456-e82e-7c7a17637e44"
      },
      "outputs": [
        {
          "data": {
            "text/plain": [
              "array(['FUNCTIONING PROPERLY', 'NO CONTROLS', 'FUNCTIONING IMPROPERLY',\n",
              "       'OTHER/UNKNOWN', 'NOT FUNCTIONING', 'MISSING',\n",
              "       'WORN REFLECTIVE MATERIAL'], dtype=object)"
            ]
          },
          "execution_count": 22,
          "metadata": {},
          "output_type": "execute_result"
        }
      ],
      "source": [
        "unify_other_unknown(df, 'DEVICE_CONDITION')\n",
        "df['DEVICE_CONDITION'].unique()"
      ]
    },
    {
      "cell_type": "markdown",
      "metadata": {
        "id": "pCFfmtAVa1p7"
      },
      "source": [
        "### WEATHER_CONDITION"
      ]
    },
    {
      "cell_type": "code",
      "execution_count": 23,
      "metadata": {
        "colab": {
          "base_uri": "https://localhost:8080/"
        },
        "id": "1TyF6uQzdvJx",
        "outputId": "08c171dd-c856-45e4-db79-77f6222ff641"
      },
      "outputs": [
        {
          "name": "stdout",
          "output_type": "stream",
          "text": [
            "['CLEAR' 'SNOW' 'UNKNOWN' 'RAIN' 'CLOUDY/OVERCAST' 'FOG/SMOKE/HAZE'\n",
            " 'BLOWING SNOW' 'FREEZING RAIN/DRIZZLE' 'OTHER' 'SEVERE CROSS WIND GATE'\n",
            " 'SLEET/HAIL' 'BLOWING SAND, SOIL, DIRT']\n",
            "----------------------------------------------------------------------------------------------------\n",
            "WEATHER_CONDITION\n",
            "BLOWING SAND, SOIL, DIRT         8\n",
            "BLOWING SNOW                   458\n",
            "CLEAR                       706259\n",
            "CLOUDY/OVERCAST              26312\n",
            "FOG/SMOKE/HAZE                1365\n",
            "FREEZING RAIN/DRIZZLE         1816\n",
            "OTHER                         2749\n",
            "RAIN                         78394\n",
            "SEVERE CROSS WIND GATE         151\n",
            "SLEET/HAIL                    1020\n",
            "SNOW                         28764\n",
            "UNKNOWN                      51477\n",
            "Name: count, dtype: int64\n"
          ]
        }
      ],
      "source": [
        "print_function(df, 'WEATHER_CONDITION')"
      ]
    },
    {
      "cell_type": "markdown",
      "metadata": {
        "id": "u2g5EZSYa_x7"
      },
      "source": [
        "Let's unify the other/unknown column categories:"
      ]
    },
    {
      "cell_type": "code",
      "execution_count": 24,
      "metadata": {
        "colab": {
          "base_uri": "https://localhost:8080/"
        },
        "id": "z_nnRjq8etun",
        "outputId": "11166067-4753-4bd8-de70-32a26b6e6a56"
      },
      "outputs": [
        {
          "data": {
            "text/plain": [
              "array(['CLEAR', 'SNOW', 'OTHER/UNKNOWN', 'RAIN', 'CLOUDY/OVERCAST',\n",
              "       'FOG/SMOKE/HAZE', 'BLOWING SNOW', 'FREEZING RAIN/DRIZZLE',\n",
              "       'SEVERE CROSS WIND GATE', 'SLEET/HAIL', 'BLOWING SAND, SOIL, DIRT'],\n",
              "      dtype=object)"
            ]
          },
          "execution_count": 24,
          "metadata": {},
          "output_type": "execute_result"
        }
      ],
      "source": [
        "unify_other_unknown(df, 'WEATHER_CONDITION')\n",
        "df['WEATHER_CONDITION'].unique()"
      ]
    },
    {
      "cell_type": "markdown",
      "metadata": {
        "id": "YFZtbhWFbFGj"
      },
      "source": [
        "### LIGHTING CONDITION"
      ]
    },
    {
      "cell_type": "code",
      "execution_count": 25,
      "metadata": {
        "colab": {
          "base_uri": "https://localhost:8080/"
        },
        "id": "A97azeTedtRc",
        "outputId": "cd7e88ce-3ff5-4ed5-a7c7-ad681513e3da"
      },
      "outputs": [
        {
          "name": "stdout",
          "output_type": "stream",
          "text": [
            "['DAYLIGHT' 'DARKNESS, LIGHTED ROAD' 'DARKNESS' 'UNKNOWN' 'DUSK' 'DAWN']\n",
            "----------------------------------------------------------------------------------------------------\n",
            "LIGHTING_CONDITION\n",
            "DARKNESS                   42442\n",
            "DARKNESS, LIGHTED ROAD    197897\n",
            "DAWN                       15027\n",
            "DAYLIGHT                  575255\n",
            "DUSK                       25765\n",
            "UNKNOWN                    42387\n",
            "Name: count, dtype: int64\n"
          ]
        }
      ],
      "source": [
        "print_function(df, 'LIGHTING_CONDITION')"
      ]
    },
    {
      "cell_type": "markdown",
      "metadata": {
        "id": "UoQt0yiUbSqk"
      },
      "source": [
        "We can unify the other/unknown column categories:"
      ]
    },
    {
      "cell_type": "code",
      "execution_count": 26,
      "metadata": {
        "colab": {
          "base_uri": "https://localhost:8080/"
        },
        "id": "oaywN_MEexy6",
        "outputId": "0ac73d6c-5f38-470f-f19d-8c79828d99e4"
      },
      "outputs": [
        {
          "data": {
            "text/plain": [
              "array(['DAYLIGHT', 'DARKNESS, LIGHTED ROAD', 'DARKNESS', 'OTHER/UNKNOWN',\n",
              "       'DUSK', 'DAWN'], dtype=object)"
            ]
          },
          "execution_count": 26,
          "metadata": {},
          "output_type": "execute_result"
        }
      ],
      "source": [
        "unify_other_unknown(df, 'LIGHTING_CONDITION')\n",
        "df['LIGHTING_CONDITION'].unique()"
      ]
    },
    {
      "cell_type": "markdown",
      "metadata": {
        "id": "_5gGM9MWbYE2"
      },
      "source": [
        "### FIRST CRASH TYPE"
      ]
    },
    {
      "cell_type": "code",
      "execution_count": 27,
      "metadata": {
        "colab": {
          "base_uri": "https://localhost:8080/"
        },
        "id": "Kl_lYD9ie5uV",
        "outputId": "bdbbf794-1f87-4c4f-eb1a-5fcd66c981de"
      },
      "outputs": [
        {
          "name": "stdout",
          "output_type": "stream",
          "text": [
            "['REAR END' 'PARKED MOTOR VEHICLE' 'PEDALCYCLIST' 'PEDESTRIAN'\n",
            " 'FIXED OBJECT' 'TURNING' 'ANGLE' 'SIDESWIPE SAME DIRECTION'\n",
            " 'SIDESWIPE OPPOSITE DIRECTION' 'REAR TO SIDE' 'HEAD ON' 'REAR TO FRONT'\n",
            " 'OTHER OBJECT' 'ANIMAL' 'OTHER NONCOLLISION' 'OVERTURNED' 'REAR TO REAR'\n",
            " 'TRAIN']\n",
            "----------------------------------------------------------------------------------------------------\n",
            "FIRST_CRASH_TYPE\n",
            "ANGLE                            97866\n",
            "ANIMAL                             654\n",
            "FIXED OBJECT                     41631\n",
            "HEAD ON                           7634\n",
            "OTHER NONCOLLISION                2729\n",
            "OTHER OBJECT                      8897\n",
            "OVERTURNED                         546\n",
            "PARKED MOTOR VEHICLE            206768\n",
            "PEDALCYCLIST                     14306\n",
            "PEDESTRIAN                       21331\n",
            "REAR END                        199000\n",
            "REAR TO FRONT                     9292\n",
            "REAR TO REAR                      1911\n",
            "REAR TO SIDE                      5537\n",
            "SIDESWIPE OPPOSITE DIRECTION     12433\n",
            "SIDESWIPE SAME DIRECTION        138368\n",
            "TRAIN                               46\n",
            "TURNING                         129824\n",
            "Name: count, dtype: int64\n"
          ]
        }
      ],
      "source": [
        "print_function(df, 'FIRST_CRASH_TYPE' )"
      ]
    },
    {
      "cell_type": "markdown",
      "metadata": {
        "id": "mZ8Z8ASzQ4Rs"
      },
      "source": [
        "Nothing to do."
      ]
    },
    {
      "cell_type": "markdown",
      "metadata": {
        "id": "vI6EvGFXbmSP"
      },
      "source": [
        "### TRAFFICWAY TYPE"
      ]
    },
    {
      "cell_type": "code",
      "execution_count": 28,
      "metadata": {
        "colab": {
          "base_uri": "https://localhost:8080/"
        },
        "id": "XqmCa4oPe3Nu",
        "outputId": "9bf1dfd3-0ae2-46c4-fb49-2be66bc7e472"
      },
      "outputs": [
        {
          "name": "stdout",
          "output_type": "stream",
          "text": [
            "['OTHER' 'DIVIDED - W/MEDIAN (NOT RAISED)' 'NOT DIVIDED' 'ONE-WAY'\n",
            " 'FOUR WAY' 'PARKING LOT' 'DIVIDED - W/MEDIAN BARRIER' 'T-INTERSECTION'\n",
            " 'UNKNOWN' 'RAMP' 'ALLEY' 'DRIVEWAY' 'UNKNOWN INTERSECTION TYPE'\n",
            " 'TRAFFIC ROUTE' 'FIVE POINT, OR MORE' 'NOT REPORTED' 'CENTER TURN LANE'\n",
            " 'L-INTERSECTION' 'Y-INTERSECTION' 'ROUNDABOUT']\n",
            "----------------------------------------------------------------------------------------------------\n",
            "TRAFFICWAY_TYPE\n",
            "ALLEY                               14715\n",
            "CENTER TURN LANE                     6389\n",
            "DIVIDED - W/MEDIAN (NOT RAISED)    142142\n",
            "DIVIDED - W/MEDIAN BARRIER          50920\n",
            "DRIVEWAY                             2786\n",
            "FIVE POINT, OR MORE                  1399\n",
            "FOUR WAY                            63243\n",
            "L-INTERSECTION                        187\n",
            "NOT DIVIDED                        388695\n",
            "NOT REPORTED                          692\n",
            "ONE-WAY                            113808\n",
            "OTHER                               23788\n",
            "PARKING LOT                         58670\n",
            "RAMP                                 2823\n",
            "ROUNDABOUT                            308\n",
            "T-INTERSECTION                      12542\n",
            "TRAFFIC ROUTE                        1182\n",
            "UNKNOWN                             10350\n",
            "UNKNOWN INTERSECTION TYPE            2773\n",
            "Y-INTERSECTION                       1361\n",
            "Name: count, dtype: int64\n"
          ]
        }
      ],
      "source": [
        "print_function(df, 'TRAFFICWAY_TYPE')"
      ]
    },
    {
      "cell_type": "markdown",
      "metadata": {
        "id": "IuN8pS5jbcw1"
      },
      "source": [
        "Nothing to do."
      ]
    },
    {
      "cell_type": "markdown",
      "metadata": {
        "id": "NttN7RZLbegX"
      },
      "source": [
        "### ALIGNMENT"
      ]
    },
    {
      "cell_type": "code",
      "execution_count": 29,
      "metadata": {
        "colab": {
          "base_uri": "https://localhost:8080/"
        },
        "id": "IDqXVBNVfKlU",
        "outputId": "c4f5ae95-2441-4b8c-8795-4386f51b2bc3"
      },
      "outputs": [
        {
          "name": "stdout",
          "output_type": "stream",
          "text": [
            "['STRAIGHT AND LEVEL' 'CURVE ON GRADE' 'CURVE, LEVEL' 'STRAIGHT ON GRADE'\n",
            " 'STRAIGHT ON HILLCREST' 'CURVE ON HILLCREST']\n",
            "----------------------------------------------------------------------------------------------------\n",
            "ALIGNMENT\n",
            "CURVE ON GRADE             1302\n",
            "CURVE ON HILLCREST          383\n",
            "CURVE, LEVEL               6356\n",
            "STRAIGHT AND LEVEL       877486\n",
            "STRAIGHT ON GRADE         11004\n",
            "STRAIGHT ON HILLCREST      2242\n",
            "Name: count, dtype: int64\n"
          ]
        }
      ],
      "source": [
        "print_function(df, 'ALIGNMENT')"
      ]
    },
    {
      "cell_type": "markdown",
      "metadata": {
        "id": "ypxaaJL5brqX"
      },
      "source": [
        "Nothing to do."
      ]
    },
    {
      "cell_type": "markdown",
      "metadata": {
        "id": "KLa6C1QHbvA3"
      },
      "source": [
        "### ROADWAY_SURFACE_COND"
      ]
    },
    {
      "cell_type": "code",
      "execution_count": 30,
      "metadata": {
        "colab": {
          "base_uri": "https://localhost:8080/"
        },
        "id": "jYADGw_RfUdy",
        "outputId": "728277f2-f31b-4316-b443-8ba3927a7a6b"
      },
      "outputs": [
        {
          "name": "stdout",
          "output_type": "stream",
          "text": [
            "['DRY' 'UNKNOWN' 'SNOW OR SLUSH' 'WET' 'OTHER' 'ICE' 'SAND, MUD, DIRT']\n",
            "----------------------------------------------------------------------------------------------------\n",
            "ROADWAY_SURFACE_COND\n",
            "DRY                664322\n",
            "ICE                  5621\n",
            "OTHER                2242\n",
            "SAND, MUD, DIRT       309\n",
            "SNOW OR SLUSH       28370\n",
            "UNKNOWN             80024\n",
            "WET                117885\n",
            "Name: count, dtype: int64\n"
          ]
        }
      ],
      "source": [
        "print_function(df, 'ROADWAY_SURFACE_COND')"
      ]
    },
    {
      "cell_type": "markdown",
      "metadata": {
        "id": "A5bAx5sucJxa"
      },
      "source": [
        "We can unify the other/unknown column categories:"
      ]
    },
    {
      "cell_type": "code",
      "execution_count": 31,
      "metadata": {
        "colab": {
          "base_uri": "https://localhost:8080/"
        },
        "id": "fSPYN2xPfYW0",
        "outputId": "7a03774e-ee7e-4136-d75a-118889c7b4b7"
      },
      "outputs": [
        {
          "data": {
            "text/plain": [
              "array(['DRY', 'OTHER/UNKNOWN', 'SNOW OR SLUSH', 'WET', 'ICE',\n",
              "       'SAND, MUD, DIRT'], dtype=object)"
            ]
          },
          "execution_count": 31,
          "metadata": {},
          "output_type": "execute_result"
        }
      ],
      "source": [
        "unify_other_unknown(df, 'ROADWAY_SURFACE_COND')\n",
        "df['ROADWAY_SURFACE_COND'].unique()"
      ]
    },
    {
      "cell_type": "markdown",
      "metadata": {
        "id": "VVgndsk1cMZB"
      },
      "source": [
        "### ROAD DEFECT"
      ]
    },
    {
      "cell_type": "code",
      "execution_count": 32,
      "metadata": {
        "colab": {
          "base_uri": "https://localhost:8080/"
        },
        "id": "lXeyk1ddfd9F",
        "outputId": "c73eb9e4-cf07-4ed6-caca-4aaadad86cbb"
      },
      "outputs": [
        {
          "name": "stdout",
          "output_type": "stream",
          "text": [
            "['NO DEFECTS' 'UNKNOWN' 'DEBRIS ON ROADWAY' 'OTHER' 'WORN SURFACE'\n",
            " 'SHOULDER DEFECT' 'RUT, HOLES']\n",
            "----------------------------------------------------------------------------------------------------\n",
            "ROAD_DEFECT\n",
            "DEBRIS ON ROADWAY       652\n",
            "NO DEFECTS           715198\n",
            "OTHER                  4798\n",
            "RUT, HOLES             6274\n",
            "SHOULDER DEFECT        1538\n",
            "UNKNOWN              166600\n",
            "WORN SURFACE           3713\n",
            "Name: count, dtype: int64\n"
          ]
        }
      ],
      "source": [
        "print_function(df, 'ROAD_DEFECT')"
      ]
    },
    {
      "cell_type": "markdown",
      "metadata": {
        "id": "gQYneVi9cfFa"
      },
      "source": [
        "Let's unify the other/unknown column categories:"
      ]
    },
    {
      "cell_type": "code",
      "execution_count": 33,
      "metadata": {
        "colab": {
          "base_uri": "https://localhost:8080/"
        },
        "id": "njxAiI9lfjt1",
        "outputId": "d62cf2e2-12a5-4102-d95b-56a83d238a0e"
      },
      "outputs": [
        {
          "data": {
            "text/plain": [
              "array(['NO DEFECTS', 'OTHER/UNKNOWN', 'DEBRIS ON ROADWAY', 'WORN SURFACE',\n",
              "       'SHOULDER DEFECT', 'RUT, HOLES'], dtype=object)"
            ]
          },
          "execution_count": 33,
          "metadata": {},
          "output_type": "execute_result"
        }
      ],
      "source": [
        "unify_other_unknown(df, 'ROAD_DEFECT')\n",
        "df['ROAD_DEFECT'].unique()"
      ]
    },
    {
      "cell_type": "markdown",
      "metadata": {
        "id": "XqEV8D1KciUD"
      },
      "source": [
        "### REPORT_TYPE"
      ]
    },
    {
      "cell_type": "code",
      "execution_count": 34,
      "metadata": {
        "colab": {
          "base_uri": "https://localhost:8080/"
        },
        "id": "WzfNw2x1gwG7",
        "outputId": "fdd4d342-8e50-4638-8ed9-76d1316323f4"
      },
      "outputs": [
        {
          "name": "stdout",
          "output_type": "stream",
          "text": [
            "['ON SCENE' 'NOT ON SCENE (DESK REPORT)' nan 'AMENDED']\n",
            "----------------------------------------------------------------------------------------------------\n",
            "REPORT_TYPE\n",
            "AMENDED                          230\n",
            "NOT ON SCENE (DESK REPORT)    487710\n",
            "ON SCENE                      382558\n",
            "Name: count, dtype: int64\n"
          ]
        }
      ],
      "source": [
        "print_function(df, 'REPORT_TYPE')"
      ]
    },
    {
      "cell_type": "markdown",
      "metadata": {
        "id": "C6teegCzclzk"
      },
      "source": [
        "Let's remove NaN values:"
      ]
    },
    {
      "cell_type": "code",
      "execution_count": 35,
      "metadata": {
        "id": "E3q1jlxng3tJ"
      },
      "outputs": [],
      "source": [
        "df.dropna(subset=['REPORT_TYPE'], inplace=True)"
      ]
    },
    {
      "cell_type": "code",
      "execution_count": 36,
      "metadata": {
        "colab": {
          "base_uri": "https://localhost:8080/"
        },
        "id": "1qL0lDtHhQUK",
        "outputId": "38172ab1-335a-4209-938f-0c8c0878fa72"
      },
      "outputs": [
        {
          "data": {
            "text/plain": [
              "(870498, 32)"
            ]
          },
          "execution_count": 36,
          "metadata": {},
          "output_type": "execute_result"
        }
      ],
      "source": [
        "df.shape"
      ]
    },
    {
      "cell_type": "markdown",
      "metadata": {
        "id": "Jg0aZ0qSczH0"
      },
      "source": [
        "### CRASH_TYPE"
      ]
    },
    {
      "cell_type": "code",
      "execution_count": 37,
      "metadata": {
        "colab": {
          "base_uri": "https://localhost:8080/"
        },
        "id": "s6mSvm-Bfn43",
        "outputId": "09a04051-812f-4782-f4bd-1c81f3e241ac"
      },
      "outputs": [
        {
          "name": "stdout",
          "output_type": "stream",
          "text": [
            "['INJURY AND / OR TOW DUE TO CRASH' 'NO INJURY / DRIVE AWAY']\n",
            "----------------------------------------------------------------------------------------------------\n",
            "CRASH_TYPE\n",
            "INJURY AND / OR TOW DUE TO CRASH    231638\n",
            "NO INJURY / DRIVE AWAY              638860\n",
            "Name: count, dtype: int64\n"
          ]
        }
      ],
      "source": [
        "print_function(df, 'CRASH_TYPE')"
      ]
    },
    {
      "cell_type": "markdown",
      "metadata": {
        "id": "rwINPRHIdsRK"
      },
      "source": [
        "Nothing to do."
      ]
    },
    {
      "cell_type": "markdown",
      "metadata": {
        "id": "daOkCRycdwgb"
      },
      "source": [
        "### HIT AND RUN"
      ]
    },
    {
      "cell_type": "code",
      "execution_count": 38,
      "metadata": {
        "colab": {
          "base_uri": "https://localhost:8080/"
        },
        "id": "CQZtj0DghiLC",
        "outputId": "20bb2255-1e12-4705-c08f-26415229db4d"
      },
      "outputs": [
        {
          "name": "stdout",
          "output_type": "stream",
          "text": [
            "[nan 'Y' 'N']\n",
            "----------------------------------------------------------------------------------------------------\n",
            "HIT_AND_RUN_I\n",
            "N     11003\n",
            "Y    260752\n",
            "Name: count, dtype: int64\n"
          ]
        }
      ],
      "source": [
        "print_function(df, 'HIT_AND_RUN_I')"
      ]
    },
    {
      "cell_type": "markdown",
      "metadata": {
        "id": "-0wxTXu8d2fb"
      },
      "source": [
        "Let's replace NaN values with \"DA\" (Don't Apply):"
      ]
    },
    {
      "cell_type": "code",
      "execution_count": 39,
      "metadata": {
        "colab": {
          "base_uri": "https://localhost:8080/"
        },
        "id": "uEEAO9jChYLV",
        "outputId": "df24c834-5b3e-4608-d907-bb7bb304d48f"
      },
      "outputs": [
        {
          "name": "stdout",
          "output_type": "stream",
          "text": [
            "['DA' 'Y' 'N']\n",
            "----------------------------------------------------------------------------------------------------\n",
            "HIT_AND_RUN_I\n",
            "DA    598743\n",
            "N      11003\n",
            "Y     260752\n",
            "Name: count, dtype: int64\n"
          ]
        }
      ],
      "source": [
        "df['HIT_AND_RUN_I'].fillna('DA', inplace=True)\n",
        "print_function(df, 'HIT_AND_RUN_I')"
      ]
    },
    {
      "cell_type": "markdown",
      "metadata": {
        "id": "JBYPfuJKeBn7"
      },
      "source": [
        "### DAMAGE"
      ]
    },
    {
      "cell_type": "code",
      "execution_count": 40,
      "metadata": {
        "colab": {
          "base_uri": "https://localhost:8080/"
        },
        "id": "Oh5RnU0oiFOP",
        "outputId": "6a2ef898-aef8-4491-dcad-a4621e2f6a39"
      },
      "outputs": [
        {
          "name": "stdout",
          "output_type": "stream",
          "text": [
            "['OVER $1,500' '$501 - $1,500' '$500 OR LESS']\n",
            "----------------------------------------------------------------------------------------------------\n",
            "DAMAGE\n",
            "$500 OR LESS      98020\n",
            "$501 - $1,500    225459\n",
            "OVER $1,500      547019\n",
            "Name: count, dtype: int64\n"
          ]
        }
      ],
      "source": [
        "print_function(df, 'DAMAGE')"
      ]
    },
    {
      "cell_type": "markdown",
      "metadata": {
        "id": "W8mF0XMgRRjl"
      },
      "source": [
        "### DATE POLICE NOTIFIED"
      ]
    },
    {
      "cell_type": "markdown",
      "metadata": {
        "id": "VduhuTq-Q88c"
      },
      "source": [
        "Let's create the month, day and year columns from the 'Police Notified' column:"
      ]
    },
    {
      "cell_type": "code",
      "execution_count": 41,
      "metadata": {
        "id": "BrOSAQbVkPTp"
      },
      "outputs": [],
      "source": [
        "extract_date(df, 'MONTH_POLICE_NOTIFIED', 'DATE_POLICE_NOTIFIED', 0, 2)\n",
        "extract_date(df, 'DAY_POLICE_NOTIFIED', 'DATE_POLICE_NOTIFIED', 3, 5)\n",
        "extract_date(df, 'YEAR_POLICE_NOTIFIED', 'DATE_POLICE_NOTIFIED', 6, 10)"
      ]
    },
    {
      "cell_type": "code",
      "execution_count": 42,
      "metadata": {
        "colab": {
          "base_uri": "https://localhost:8080/"
        },
        "id": "Z3gR7kzakjL1",
        "outputId": "042101b6-9c83-49d8-a843-f95a036bb110"
      },
      "outputs": [
        {
          "name": "stdout",
          "output_type": "stream",
          "text": [
            "MONTH_POLICE_NOTIFIED\n",
            "1     63503\n",
            "2     62620\n",
            "3     65041\n",
            "4     63507\n",
            "5     73984\n",
            "6     74735\n",
            "7     75505\n",
            "8     77681\n",
            "9     79046\n",
            "10    83079\n",
            "11    75435\n",
            "12    76362\n",
            "Name: count, dtype: int64\n",
            "----------------------------------------------------------------------------------------------------\n",
            "DAY_POLICE_NOTIFIED\n",
            "1     29522\n",
            "2     28591\n",
            "3     28777\n",
            "4     27862\n",
            "5     29032\n",
            "6     28248\n",
            "7     28104\n",
            "8     28114\n",
            "9     28326\n",
            "10    28623\n",
            "11    28636\n",
            "12    29476\n",
            "13    29158\n",
            "14    29522\n",
            "15    29170\n",
            "16    28950\n",
            "17    29014\n",
            "18    28936\n",
            "19    28582\n",
            "20    28970\n",
            "21    28395\n",
            "22    28580\n",
            "23    28568\n",
            "24    27658\n",
            "25    27562\n",
            "26    28310\n",
            "27    28124\n",
            "28    27687\n",
            "29    26598\n",
            "30    26496\n",
            "31    16907\n",
            "Name: count, dtype: int64\n",
            "----------------------------------------------------------------------------------------------------\n",
            "YEAR_POLICE_NOTIFIED\n",
            "2015      9316\n",
            "2016     42606\n",
            "2017     80339\n",
            "2018    113699\n",
            "2019    113223\n",
            "2020     89222\n",
            "2021    105114\n",
            "2022    104031\n",
            "2023    105927\n",
            "2024    106897\n",
            "2025       124\n",
            "Name: count, dtype: int64\n"
          ]
        }
      ],
      "source": [
        "print(df['MONTH_POLICE_NOTIFIED'].value_counts().sort_index())\n",
        "print('-'*100)\n",
        "print(df['DAY_POLICE_NOTIFIED'].value_counts().sort_index())\n",
        "print('-'*100)\n",
        "print(df['YEAR_POLICE_NOTIFIED'].value_counts().sort_index())"
      ]
    },
    {
      "cell_type": "markdown",
      "metadata": {
        "id": "7wfZxZaERJHt"
      },
      "source": [
        "We can drop Data Police Notified column:"
      ]
    },
    {
      "cell_type": "code",
      "execution_count": 43,
      "metadata": {
        "id": "zKOLxLxHmMKS"
      },
      "outputs": [],
      "source": [
        "df.drop(columns=['DATE_POLICE_NOTIFIED'], inplace=True)"
      ]
    },
    {
      "cell_type": "markdown",
      "metadata": {
        "id": "FekczVBrRZ8W"
      },
      "source": [
        "### PRIMARY CONTRIBUTORY CAUSE"
      ]
    },
    {
      "cell_type": "code",
      "execution_count": 44,
      "metadata": {
        "colab": {
          "base_uri": "https://localhost:8080/"
        },
        "id": "xCJSL-QinIBD",
        "outputId": "8b56cbd8-3912-4fe6-e112-db095fd0e30a"
      },
      "outputs": [
        {
          "name": "stdout",
          "output_type": "stream",
          "text": [
            "['FOLLOWING TOO CLOSELY' 'FAILING TO REDUCE SPEED TO AVOID CRASH'\n",
            " 'UNABLE TO DETERMINE' 'IMPROPER BACKING' 'IMPROPER TURNING/NO SIGNAL'\n",
            " 'NOT APPLICABLE' 'WEATHER' 'IMPROPER OVERTAKING/PASSING'\n",
            " 'DRIVING SKILLS/KNOWLEDGE/EXPERIENCE' 'IMPROPER LANE USAGE'\n",
            " 'VISION OBSCURED (SIGNS, TREE LIMBS, BUILDINGS, ETC.)'\n",
            " 'ROAD ENGINEERING/SURFACE/MARKING DEFECTS'\n",
            " 'FAILING TO YIELD RIGHT-OF-WAY' 'EQUIPMENT - VEHICLE CONDITION'\n",
            " 'RELATED TO BUS STOP' 'DISREGARDING OTHER TRAFFIC SIGNS'\n",
            " 'DRIVING ON WRONG SIDE/WRONG WAY' 'ROAD CONSTRUCTION/MAINTENANCE'\n",
            " 'DISTRACTION - FROM INSIDE VEHICLE' 'ANIMAL' 'TEXTING'\n",
            " 'DISREGARDING TRAFFIC SIGNALS' 'DISREGARDING ROAD MARKINGS'\n",
            " 'CELL PHONE USE OTHER THAN TEXTING' 'DISREGARDING STOP SIGN'\n",
            " 'OPERATING VEHICLE IN ERRATIC, RECKLESS, CARELESS, NEGLIGENT OR AGGRESSIVE MANNER'\n",
            " 'EXCEEDING AUTHORIZED SPEED LIMIT' 'DISTRACTION - FROM OUTSIDE VEHICLE'\n",
            " 'PHYSICAL CONDITION OF DRIVER' 'EXCEEDING SAFE SPEED FOR CONDITIONS'\n",
            " 'DISREGARDING YIELD SIGN' 'TURNING RIGHT ON RED'\n",
            " 'UNDER THE INFLUENCE OF ALCOHOL/DRUGS (USE WHEN ARREST IS EFFECTED)'\n",
            " 'EVASIVE ACTION DUE TO ANIMAL, OBJECT, NONMOTORIST'\n",
            " 'HAD BEEN DRINKING (USE WHEN ARREST IS NOT MADE)'\n",
            " 'DISTRACTION - OTHER ELECTRONIC DEVICE (NAVIGATION DEVICE, DVD PLAYER, ETC.)'\n",
            " 'OBSTRUCTED CROSSWALKS' 'BICYCLE ADVANCING LEGALLY ON RED LIGHT'\n",
            " 'PASSING STOPPED SCHOOL BUS' 'MOTORCYCLE ADVANCING LEGALLY ON RED LIGHT']\n",
            "----------------------------------------------------------------------------------------------------\n",
            "PRIM_CONTRIBUTORY_CAUSE\n",
            "ANIMAL                                                                                 753\n",
            "BICYCLE ADVANCING LEGALLY ON RED LIGHT                                                  86\n",
            "CELL PHONE USE OTHER THAN TEXTING                                                     1162\n",
            "DISREGARDING OTHER TRAFFIC SIGNS                                                      1830\n",
            "DISREGARDING ROAD MARKINGS                                                            1079\n",
            "DISREGARDING STOP SIGN                                                                9204\n",
            "DISREGARDING TRAFFIC SIGNALS                                                         16842\n",
            "DISREGARDING YIELD SIGN                                                                267\n",
            "DISTRACTION - FROM INSIDE VEHICLE                                                     5958\n",
            "DISTRACTION - FROM OUTSIDE VEHICLE                                                    3494\n",
            "DISTRACTION - OTHER ELECTRONIC DEVICE (NAVIGATION DEVICE, DVD PLAYER, ETC.)            420\n",
            "DRIVING ON WRONG SIDE/WRONG WAY                                                       4621\n",
            "DRIVING SKILLS/KNOWLEDGE/EXPERIENCE                                                  29653\n",
            "EQUIPMENT - VEHICLE CONDITION                                                         5441\n",
            "EVASIVE ACTION DUE TO ANIMAL, OBJECT, NONMOTORIST                                     1596\n",
            "EXCEEDING AUTHORIZED SPEED LIMIT                                                      1897\n",
            "EXCEEDING SAFE SPEED FOR CONDITIONS                                                   1625\n",
            "FAILING TO REDUCE SPEED TO AVOID CRASH                                               36845\n",
            "FAILING TO YIELD RIGHT-OF-WAY                                                        95919\n",
            "FOLLOWING TOO CLOSELY                                                                84774\n",
            "HAD BEEN DRINKING (USE WHEN ARREST IS NOT MADE)                                        862\n",
            "IMPROPER BACKING                                                                     33387\n",
            "IMPROPER LANE USAGE                                                                  30893\n",
            "IMPROPER OVERTAKING/PASSING                                                          43559\n",
            "IMPROPER TURNING/NO SIGNAL                                                           29128\n",
            "MOTORCYCLE ADVANCING LEGALLY ON RED LIGHT                                               21\n",
            "NOT APPLICABLE                                                                       45938\n",
            "OBSTRUCTED CROSSWALKS                                                                   95\n",
            "OPERATING VEHICLE IN ERRATIC, RECKLESS, CARELESS, NEGLIGENT OR AGGRESSIVE MANNER     10837\n",
            "PASSING STOPPED SCHOOL BUS                                                             108\n",
            "PHYSICAL CONDITION OF DRIVER                                                          5125\n",
            "RELATED TO BUS STOP                                                                    478\n",
            "ROAD CONSTRUCTION/MAINTENANCE                                                         1832\n",
            "ROAD ENGINEERING/SURFACE/MARKING DEFECTS                                              2066\n",
            "TEXTING                                                                                332\n",
            "TURNING RIGHT ON RED                                                                   661\n",
            "UNABLE TO DETERMINE                                                                 340127\n",
            "UNDER THE INFLUENCE OF ALCOHOL/DRUGS (USE WHEN ARREST IS EFFECTED)                    3985\n",
            "VISION OBSCURED (SIGNS, TREE LIMBS, BUILDINGS, ETC.)                                  4967\n",
            "WEATHER                                                                              12631\n",
            "Name: count, dtype: int64\n"
          ]
        }
      ],
      "source": [
        "print_function(df, 'PRIM_CONTRIBUTORY_CAUSE')"
      ]
    },
    {
      "cell_type": "markdown",
      "metadata": {
        "id": "nsR_MMkrRnmY"
      },
      "source": [
        "Nothing to do."
      ]
    },
    {
      "cell_type": "markdown",
      "metadata": {
        "id": "mbuSWHgqRrAv"
      },
      "source": [
        "### SECUNDARY CONTRIBUTORY CAUSE"
      ]
    },
    {
      "cell_type": "code",
      "execution_count": 45,
      "metadata": {
        "colab": {
          "base_uri": "https://localhost:8080/"
        },
        "id": "03Dkj6M9nU8X",
        "outputId": "62c9a36c-ce84-4e65-a851-8302634c3df4"
      },
      "outputs": [
        {
          "name": "stdout",
          "output_type": "stream",
          "text": [
            "['DISTRACTION - FROM INSIDE VEHICLE'\n",
            " 'OPERATING VEHICLE IN ERRATIC, RECKLESS, CARELESS, NEGLIGENT OR AGGRESSIVE MANNER'\n",
            " 'UNABLE TO DETERMINE' 'NOT APPLICABLE'\n",
            " 'DRIVING SKILLS/KNOWLEDGE/EXPERIENCE' 'WEATHER'\n",
            " 'FAILING TO YIELD RIGHT-OF-WAY' 'FAILING TO REDUCE SPEED TO AVOID CRASH'\n",
            " 'IMPROPER TURNING/NO SIGNAL' 'IMPROPER OVERTAKING/PASSING'\n",
            " 'FOLLOWING TOO CLOSELY' 'DISREGARDING STOP SIGN'\n",
            " 'ROAD CONSTRUCTION/MAINTENANCE' 'IMPROPER LANE USAGE'\n",
            " 'DISTRACTION - FROM OUTSIDE VEHICLE' 'DISREGARDING TRAFFIC SIGNALS'\n",
            " 'DRIVING ON WRONG SIDE/WRONG WAY' 'EQUIPMENT - VEHICLE CONDITION'\n",
            " 'IMPROPER BACKING' 'VISION OBSCURED (SIGNS, TREE LIMBS, BUILDINGS, ETC.)'\n",
            " 'PHYSICAL CONDITION OF DRIVER' 'EXCEEDING SAFE SPEED FOR CONDITIONS'\n",
            " 'BICYCLE ADVANCING LEGALLY ON RED LIGHT'\n",
            " 'EXCEEDING AUTHORIZED SPEED LIMIT'\n",
            " 'DISTRACTION - OTHER ELECTRONIC DEVICE (NAVIGATION DEVICE, DVD PLAYER, ETC.)'\n",
            " 'UNDER THE INFLUENCE OF ALCOHOL/DRUGS (USE WHEN ARREST IS EFFECTED)'\n",
            " 'ROAD ENGINEERING/SURFACE/MARKING DEFECTS'\n",
            " 'EVASIVE ACTION DUE TO ANIMAL, OBJECT, NONMOTORIST' 'ANIMAL'\n",
            " 'DISREGARDING ROAD MARKINGS' 'DISREGARDING OTHER TRAFFIC SIGNS'\n",
            " 'HAD BEEN DRINKING (USE WHEN ARREST IS NOT MADE)'\n",
            " 'CELL PHONE USE OTHER THAN TEXTING' 'TURNING RIGHT ON RED'\n",
            " 'PASSING STOPPED SCHOOL BUS' 'RELATED TO BUS STOP'\n",
            " 'MOTORCYCLE ADVANCING LEGALLY ON RED LIGHT' 'DISREGARDING YIELD SIGN'\n",
            " 'TEXTING' 'OBSTRUCTED CROSSWALKS']\n",
            "----------------------------------------------------------------------------------------------------\n",
            "SEC_CONTRIBUTORY_CAUSE\n",
            "ANIMAL                                                                                 414\n",
            "BICYCLE ADVANCING LEGALLY ON RED LIGHT                                                 222\n",
            "CELL PHONE USE OTHER THAN TEXTING                                                      649\n",
            "DISREGARDING OTHER TRAFFIC SIGNS                                                       882\n",
            "DISREGARDING ROAD MARKINGS                                                             844\n",
            "DISREGARDING STOP SIGN                                                                2491\n",
            "DISREGARDING TRAFFIC SIGNALS                                                          3483\n",
            "DISREGARDING YIELD SIGN                                                                215\n",
            "DISTRACTION - FROM INSIDE VEHICLE                                                     2626\n",
            "DISTRACTION - FROM OUTSIDE VEHICLE                                                    1429\n",
            "DISTRACTION - OTHER ELECTRONIC DEVICE (NAVIGATION DEVICE, DVD PLAYER, ETC.)            250\n",
            "DRIVING ON WRONG SIDE/WRONG WAY                                                       1804\n",
            "DRIVING SKILLS/KNOWLEDGE/EXPERIENCE                                                  27206\n",
            "EQUIPMENT - VEHICLE CONDITION                                                         1785\n",
            "EVASIVE ACTION DUE TO ANIMAL, OBJECT, NONMOTORIST                                      454\n",
            "EXCEEDING AUTHORIZED SPEED LIMIT                                                      1432\n",
            "EXCEEDING SAFE SPEED FOR CONDITIONS                                                   1388\n",
            "FAILING TO REDUCE SPEED TO AVOID CRASH                                               32100\n",
            "FAILING TO YIELD RIGHT-OF-WAY                                                        27883\n",
            "FOLLOWING TOO CLOSELY                                                                23159\n",
            "HAD BEEN DRINKING (USE WHEN ARREST IS NOT MADE)                                       1013\n",
            "IMPROPER BACKING                                                                      6976\n",
            "IMPROPER LANE USAGE                                                                  12257\n",
            "IMPROPER OVERTAKING/PASSING                                                          13541\n",
            "IMPROPER TURNING/NO SIGNAL                                                            9038\n",
            "MOTORCYCLE ADVANCING LEGALLY ON RED LIGHT                                               54\n",
            "NOT APPLICABLE                                                                      358903\n",
            "OBSTRUCTED CROSSWALKS                                                                   94\n",
            "OPERATING VEHICLE IN ERRATIC, RECKLESS, CARELESS, NEGLIGENT OR AGGRESSIVE MANNER      5333\n",
            "PASSING STOPPED SCHOOL BUS                                                              92\n",
            "PHYSICAL CONDITION OF DRIVER                                                          2620\n",
            "RELATED TO BUS STOP                                                                    431\n",
            "ROAD CONSTRUCTION/MAINTENANCE                                                          998\n",
            "ROAD ENGINEERING/SURFACE/MARKING DEFECTS                                               810\n",
            "TEXTING                                                                                153\n",
            "TURNING RIGHT ON RED                                                                   334\n",
            "UNABLE TO DETERMINE                                                                 313390\n",
            "UNDER THE INFLUENCE OF ALCOHOL/DRUGS (USE WHEN ARREST IS EFFECTED)                    1389\n",
            "VISION OBSCURED (SIGNS, TREE LIMBS, BUILDINGS, ETC.)                                  2724\n",
            "WEATHER                                                                               9632\n",
            "Name: count, dtype: int64\n"
          ]
        }
      ],
      "source": [
        "print_function(df, 'SEC_CONTRIBUTORY_CAUSE')"
      ]
    },
    {
      "cell_type": "markdown",
      "metadata": {
        "id": "aDK5jOCkRxQf"
      },
      "source": [
        "Nothing to do"
      ]
    },
    {
      "cell_type": "markdown",
      "metadata": {
        "id": "3jTA5jMGTWCm"
      },
      "source": [
        "### NUMBER OF AFFECT UNITS"
      ]
    },
    {
      "cell_type": "code",
      "execution_count": 46,
      "metadata": {
        "colab": {
          "base_uri": "https://localhost:8080/"
        },
        "id": "niaoeb2zoImW",
        "outputId": "632da875-2d94-4658-dc1c-36999cc4eeb7"
      },
      "outputs": [
        {
          "name": "stdout",
          "output_type": "stream",
          "text": [
            "[ 2  4  1  3  5  6  7  8 12 11  9 18 10 16 14 13 15]\n",
            "----------------------------------------------------------------------------------------------------\n",
            "NUM_UNITS\n",
            "1      48218\n",
            "2     763637\n",
            "3      46811\n",
            "4       8854\n",
            "5       2066\n",
            "6        578\n",
            "7        182\n",
            "8         85\n",
            "9         35\n",
            "10        13\n",
            "11         6\n",
            "12         5\n",
            "13         1\n",
            "14         1\n",
            "15         1\n",
            "16         1\n",
            "18         4\n",
            "Name: count, dtype: int64\n"
          ]
        }
      ],
      "source": [
        "print_function(df, 'NUM_UNITS')"
      ]
    },
    {
      "cell_type": "markdown",
      "metadata": {
        "id": "Os5W-DevTjZn"
      },
      "source": [
        "Nothing to do"
      ]
    },
    {
      "cell_type": "markdown",
      "metadata": {
        "id": "Q7aalBifTfPf"
      },
      "source": [
        "### MOST SEVERE INJURY"
      ]
    },
    {
      "cell_type": "code",
      "execution_count": 47,
      "metadata": {
        "colab": {
          "base_uri": "https://localhost:8080/"
        },
        "id": "t65gW7VgphpG",
        "outputId": "00b1982b-e709-473a-dd07-3246666effab"
      },
      "outputs": [
        {
          "name": "stdout",
          "output_type": "stream",
          "text": [
            "['NONINCAPACITATING INJURY' 'NO INDICATION OF INJURY' 'FATAL'\n",
            " 'REPORTED, NOT EVIDENT' 'INCAPACITATING INJURY' nan]\n",
            "----------------------------------------------------------------------------------------------------\n",
            "MOST_SEVERE_INJURY\n",
            "FATAL                          764\n",
            "INCAPACITATING INJURY        13983\n",
            "NO INDICATION OF INJURY     749139\n",
            "NONINCAPACITATING INJURY     67241\n",
            "REPORTED, NOT EVIDENT        37454\n",
            "Name: count, dtype: int64\n"
          ]
        }
      ],
      "source": [
        "print_function(df, 'MOST_SEVERE_INJURY')"
      ]
    },
    {
      "cell_type": "markdown",
      "metadata": {
        "id": "gnEIadaqTrgA"
      },
      "source": [
        "Let's remove NaN values:"
      ]
    },
    {
      "cell_type": "code",
      "execution_count": 48,
      "metadata": {
        "id": "GvxWy-6Cp0TY"
      },
      "outputs": [],
      "source": [
        "df.dropna(subset=['MOST_SEVERE_INJURY'], inplace=True)"
      ]
    },
    {
      "cell_type": "code",
      "execution_count": 49,
      "metadata": {
        "colab": {
          "base_uri": "https://localhost:8080/"
        },
        "id": "tL-0wbI_p69Y",
        "outputId": "07a8d97c-8ac3-4a58-98b9-028b1dc01ac6"
      },
      "outputs": [
        {
          "data": {
            "text/plain": [
              "(868581, 34)"
            ]
          },
          "execution_count": 49,
          "metadata": {},
          "output_type": "execute_result"
        }
      ],
      "source": [
        "df.shape"
      ]
    },
    {
      "cell_type": "markdown",
      "metadata": {
        "id": "gGM1gKCJT5bG"
      },
      "source": [
        "### INJURIES TOTAL"
      ]
    },
    {
      "cell_type": "code",
      "execution_count": 50,
      "metadata": {
        "colab": {
          "base_uri": "https://localhost:8080/"
        },
        "id": "eBTmlGR3p9xe",
        "outputId": "8ad520e1-7eea-487e-fde9-e7e3849025e6"
      },
      "outputs": [
        {
          "name": "stdout",
          "output_type": "stream",
          "text": [
            "[ 1.  0.  5.  2.  3.  4.  6. 15.  8.  7. 21. 11. 17.  9. 14. 12. 13. 10.\n",
            " 19. 16.]\n",
            "----------------------------------------------------------------------------------------------------\n",
            "INJURIES_TOTAL\n",
            "0.0     749139\n",
            "1.0      90197\n",
            "2.0      19878\n",
            "3.0       5981\n",
            "4.0       2111\n",
            "5.0        763\n",
            "6.0        289\n",
            "7.0        116\n",
            "8.0         46\n",
            "9.0         21\n",
            "10.0        11\n",
            "11.0         9\n",
            "12.0         4\n",
            "13.0         3\n",
            "14.0         1\n",
            "15.0         6\n",
            "16.0         1\n",
            "17.0         1\n",
            "19.0         1\n",
            "21.0         3\n",
            "Name: count, dtype: int64\n"
          ]
        }
      ],
      "source": [
        "print_function(df, 'INJURIES_TOTAL')"
      ]
    },
    {
      "cell_type": "markdown",
      "metadata": {
        "id": "6hoflO_dUA9J"
      },
      "source": [
        "Nothing to do"
      ]
    },
    {
      "cell_type": "code",
      "execution_count": 51,
      "metadata": {
        "colab": {
          "base_uri": "https://localhost:8080/"
        },
        "id": "z75apqQgqJXT",
        "outputId": "f21dd479-bc1d-426f-9694-2923ff84ee50"
      },
      "outputs": [
        {
          "name": "stdout",
          "output_type": "stream",
          "text": [
            "[0. 1. 2. 3.]\n",
            "----------------------------------------------------------------------------------------------------\n",
            "INJURIES_FATAL\n",
            "0.0    867817\n",
            "1.0       709\n",
            "2.0        48\n",
            "3.0         7\n",
            "Name: count, dtype: int64\n"
          ]
        }
      ],
      "source": [
        "print_function(df, 'INJURIES_FATAL')"
      ]
    },
    {
      "cell_type": "markdown",
      "metadata": {
        "id": "p1U2owIqUDEM"
      },
      "source": [
        "Nothing to do"
      ]
    },
    {
      "cell_type": "code",
      "execution_count": 52,
      "metadata": {
        "colab": {
          "base_uri": "https://localhost:8080/"
        },
        "id": "FvKeQK7_qWOs",
        "outputId": "12b50ee7-f1ca-4b22-8ed5-1be5e302fdae"
      },
      "outputs": [
        {
          "name": "stdout",
          "output_type": "stream",
          "text": [
            "[ 0.  2.  1.  5.  3.  4.  6. 10.  8.  7.]\n",
            "----------------------------------------------------------------------------------------------------\n",
            "INJURIES_INCAPACITATING\n",
            "0.0     854483\n",
            "1.0      12434\n",
            "2.0       1255\n",
            "3.0        282\n",
            "4.0         95\n",
            "5.0         23\n",
            "6.0          6\n",
            "7.0          1\n",
            "8.0          1\n",
            "10.0         1\n",
            "Name: count, dtype: int64\n"
          ]
        }
      ],
      "source": [
        "print_function(df, 'INJURIES_INCAPACITATING')"
      ]
    },
    {
      "cell_type": "markdown",
      "metadata": {
        "id": "0Lln89WXUElU"
      },
      "source": [
        "Nothing to do"
      ]
    },
    {
      "cell_type": "code",
      "execution_count": 53,
      "metadata": {
        "colab": {
          "base_uri": "https://localhost:8080/"
        },
        "id": "KiVIfR61qjXE",
        "outputId": "ec7cd5df-8f6b-4ac6-92f8-17f30561ac92"
      },
      "outputs": [
        {
          "name": "stdout",
          "output_type": "stream",
          "text": [
            "[ 1.  0.  5.  2.  3.  4.  6. 21.  7. 10.  8. 14. 12. 11.  9. 13. 19. 18.\n",
            " 15. 16.]\n",
            "----------------------------------------------------------------------------------------------------\n",
            "INJURIES_NON_INCAPACITATING\n",
            "0.0     798903\n",
            "1.0      54816\n",
            "2.0      10274\n",
            "3.0       2982\n",
            "4.0       1016\n",
            "5.0        353\n",
            "6.0        143\n",
            "7.0         50\n",
            "8.0         16\n",
            "9.0          7\n",
            "10.0         5\n",
            "11.0         4\n",
            "12.0         4\n",
            "13.0         1\n",
            "14.0         1\n",
            "15.0         1\n",
            "16.0         1\n",
            "18.0         1\n",
            "19.0         1\n",
            "21.0         2\n",
            "Name: count, dtype: int64\n"
          ]
        }
      ],
      "source": [
        "print_function(df, 'INJURIES_NON_INCAPACITATING')"
      ]
    },
    {
      "cell_type": "markdown",
      "metadata": {
        "id": "zG4yyqCnUFvi"
      },
      "source": [
        "Nothing to do"
      ]
    },
    {
      "cell_type": "code",
      "execution_count": 54,
      "metadata": {
        "colab": {
          "base_uri": "https://localhost:8080/"
        },
        "id": "Cm-RzDrLqx0a",
        "outputId": "0eb60a69-5d02-4565-aabd-5c74462c15ec"
      },
      "outputs": [
        {
          "name": "stdout",
          "output_type": "stream",
          "text": [
            "[ 0.  2.  1.  3.  5.  4. 10.  6.  7.  8.  9. 15.]\n",
            "----------------------------------------------------------------------------------------------------\n",
            "INJURIES_REPORTED_NOT_EVIDENT\n",
            "0.0     826913\n",
            "1.0      32446\n",
            "2.0       6670\n",
            "3.0       1713\n",
            "4.0        545\n",
            "5.0        190\n",
            "6.0         51\n",
            "7.0         27\n",
            "8.0         11\n",
            "9.0          9\n",
            "10.0         5\n",
            "15.0         1\n",
            "Name: count, dtype: int64\n"
          ]
        }
      ],
      "source": [
        "print_function(df, 'INJURIES_REPORTED_NOT_EVIDENT')"
      ]
    },
    {
      "cell_type": "markdown",
      "metadata": {
        "id": "cwKywEroUHqO"
      },
      "source": [
        "Nothing to do"
      ]
    },
    {
      "cell_type": "code",
      "execution_count": 55,
      "metadata": {
        "colab": {
          "base_uri": "https://localhost:8080/"
        },
        "id": "4g9mippmq3UJ",
        "outputId": "37758a0d-2a9c-4584-ef97-3ac43c3c6faa"
      },
      "outputs": [
        {
          "name": "stdout",
          "output_type": "stream",
          "text": [
            "[ 1.  3.  2.  5.  0.  4.  7.  6. 15.  8. 11. 20. 18. 27. 10.  9. 13. 12.\n",
            " 36. 17. 37. 16. 14. 22. 29. 30. 50. 21. 42. 46. 24. 26. 61. 38. 48. 34.\n",
            " 31. 43. 19. 45. 25. 40. 49. 23. 41. 28. 33. 35. 32. 39.]\n",
            "----------------------------------------------------------------------------------------------------\n",
            "INJURIES_NO_INDICATION\n",
            "0.0      18349\n",
            "1.0     265765\n",
            "2.0     405693\n",
            "3.0     108946\n",
            "4.0      40544\n",
            "5.0      17057\n",
            "6.0       7103\n",
            "7.0       2715\n",
            "8.0       1211\n",
            "9.0        507\n",
            "10.0       244\n",
            "11.0       116\n",
            "12.0        76\n",
            "13.0        43\n",
            "14.0        40\n",
            "15.0        21\n",
            "16.0        21\n",
            "17.0        17\n",
            "18.0         5\n",
            "19.0         8\n",
            "20.0        13\n",
            "21.0         7\n",
            "22.0         6\n",
            "23.0         1\n",
            "24.0         5\n",
            "25.0         4\n",
            "26.0         6\n",
            "27.0         5\n",
            "28.0         3\n",
            "29.0         6\n",
            "30.0         5\n",
            "31.0         4\n",
            "32.0         2\n",
            "33.0         2\n",
            "34.0         2\n",
            "35.0         1\n",
            "36.0         5\n",
            "37.0         6\n",
            "38.0         1\n",
            "39.0         1\n",
            "40.0         2\n",
            "41.0         1\n",
            "42.0         4\n",
            "43.0         1\n",
            "45.0         2\n",
            "46.0         1\n",
            "48.0         1\n",
            "49.0         1\n",
            "50.0         1\n",
            "61.0         1\n",
            "Name: count, dtype: int64\n"
          ]
        }
      ],
      "source": [
        "print_function(df, 'INJURIES_NO_INDICATION')"
      ]
    },
    {
      "cell_type": "markdown",
      "metadata": {
        "id": "Kq2Z4TwGUJWD"
      },
      "source": [
        "Nothing to do"
      ]
    },
    {
      "cell_type": "code",
      "execution_count": 56,
      "metadata": {
        "colab": {
          "base_uri": "https://localhost:8080/"
        },
        "id": "_JwLkylfr--o",
        "outputId": "7db91606-8164-47f1-d27a-ed65a91e01bd"
      },
      "outputs": [
        {
          "name": "stdout",
          "output_type": "stream",
          "text": [
            "[0.]\n",
            "----------------------------------------------------------------------------------------------------\n",
            "INJURIES_UNKNOWN\n",
            "0.0    868581\n",
            "Name: count, dtype: int64\n"
          ]
        }
      ],
      "source": [
        "print_function(df, 'INJURIES_UNKNOWN')"
      ]
    },
    {
      "cell_type": "markdown",
      "metadata": {
        "id": "PRR9tPY_UOnD"
      },
      "source": [
        "We can drop this column because doesn't add value:"
      ]
    },
    {
      "cell_type": "code",
      "execution_count": 57,
      "metadata": {
        "id": "wiDLIahRsDol"
      },
      "outputs": [],
      "source": [
        "df.drop(columns=['INJURIES_UNKNOWN'], inplace=True)"
      ]
    },
    {
      "cell_type": "code",
      "execution_count": 58,
      "metadata": {
        "colab": {
          "base_uri": "https://localhost:8080/"
        },
        "id": "16858HFetE8W",
        "outputId": "ccafcb3a-fafb-4eee-ff40-e7835c858854"
      },
      "outputs": [
        {
          "data": {
            "text/plain": [
              "(868581, 33)"
            ]
          },
          "execution_count": 58,
          "metadata": {},
          "output_type": "execute_result"
        }
      ],
      "source": [
        "df.shape"
      ]
    },
    {
      "cell_type": "code",
      "execution_count": 59,
      "metadata": {
        "colab": {
          "base_uri": "https://localhost:8080/"
        },
        "id": "ok90k6SgtHph",
        "outputId": "65ea6b1d-9ff1-4723-e721-d046c6186379"
      },
      "outputs": [
        {
          "name": "stdout",
          "output_type": "stream",
          "text": [
            "[12 14 17  8 10 13  0 19 16 11  7 21 15 18  5  6 20  9 22  2  1 23  4  3]\n",
            "----------------------------------------------------------------------------------------------------\n",
            "CRASH_HOUR\n",
            "0     18830\n",
            "1     15971\n",
            "2     13617\n",
            "3     11254\n",
            "4      9916\n",
            "5     11826\n",
            "6     18718\n",
            "7     36836\n",
            "8     45939\n",
            "9     39779\n",
            "10    39437\n",
            "11    44079\n",
            "12    51005\n",
            "13    52545\n",
            "14    58049\n",
            "15    67444\n",
            "16    66605\n",
            "17    64933\n",
            "18    53502\n",
            "19    39374\n",
            "20    31883\n",
            "21    28347\n",
            "22    26132\n",
            "23    22560\n",
            "Name: count, dtype: int64\n"
          ]
        }
      ],
      "source": [
        "print_function(df, 'CRASH_HOUR')"
      ]
    },
    {
      "cell_type": "markdown",
      "metadata": {
        "id": "xqDGvQHDUexN"
      },
      "source": [
        "Nothing to do."
      ]
    },
    {
      "cell_type": "code",
      "execution_count": 60,
      "metadata": {
        "colab": {
          "base_uri": "https://localhost:8080/"
        },
        "id": "GjXEMuTetT6N",
        "outputId": "259560e6-74d4-4383-f2c9-5fc4afd7de14"
      },
      "outputs": [
        {
          "name": "stdout",
          "output_type": "stream",
          "text": [
            "[6 7 3 2 1 4 5]\n",
            "----------------------------------------------------------------------------------------------------\n",
            "CRASH_DAY_OF_WEEK\n",
            "1    107948\n",
            "2    119345\n",
            "3    123921\n",
            "4    123269\n",
            "5    125066\n",
            "6    140951\n",
            "7    128081\n",
            "Name: count, dtype: int64\n"
          ]
        }
      ],
      "source": [
        "print_function(df, 'CRASH_DAY_OF_WEEK')"
      ]
    },
    {
      "cell_type": "markdown",
      "metadata": {
        "id": "8J_t_JZxrSxK"
      },
      "source": [
        "Nothing to do."
      ]
    },
    {
      "cell_type": "code",
      "execution_count": 61,
      "metadata": {
        "colab": {
          "base_uri": "https://localhost:8080/"
        },
        "id": "rRorx3nBtV9h",
        "outputId": "a27c45de-668b-4b91-8ad4-a253866c7e34"
      },
      "outputs": [
        {
          "name": "stdout",
          "output_type": "stream",
          "text": [
            "[ 8  7 11  2  1  9 10 12  5  6  3  4]\n",
            "----------------------------------------------------------------------------------------------------\n",
            "CRASH_MONTH\n",
            "1     63220\n",
            "2     62582\n",
            "3     64698\n",
            "4     63479\n",
            "5     74109\n",
            "6     74443\n",
            "7     75376\n",
            "8     77483\n",
            "9     78832\n",
            "10    82990\n",
            "11    75065\n",
            "12    76304\n",
            "Name: count, dtype: int64\n"
          ]
        }
      ],
      "source": [
        "print_function(df, 'CRASH_MONTH')"
      ]
    },
    {
      "cell_type": "markdown",
      "metadata": {
        "id": "JBAv9qpmrUq3"
      },
      "source": [
        "Nothing to do."
      ]
    },
    {
      "cell_type": "code",
      "execution_count": 62,
      "metadata": {
        "colab": {
          "base_uri": "https://localhost:8080/"
        },
        "id": "vNmGPkNptZgX",
        "outputId": "322753e8-e704-4623-c374-438724589078"
      },
      "outputs": [
        {
          "name": "stdout",
          "output_type": "stream",
          "text": [
            "[        nan 41.85412026 41.94297574 ... 41.94451595 41.87604366\n",
            " 41.94508421]\n",
            "----------------------------------------------------------------------------------------------------\n",
            "LATITUDE\n",
            "0.000000     50\n",
            "41.644670    25\n",
            "41.644692     5\n",
            "41.644694     6\n",
            "41.644694     1\n",
            "             ..\n",
            "42.022669     1\n",
            "42.022720     2\n",
            "42.022736     1\n",
            "42.022755     1\n",
            "42.022780    10\n",
            "Name: count, Length: 312226, dtype: int64\n",
            "[         nan -87.66590234 -87.7618835  ... -87.74014511 -87.70045935\n",
            " -87.66703451]\n",
            "----------------------------------------------------------------------------------------------------\n",
            "LONGITUDE\n",
            "-87.936193     1\n",
            "-87.935877     1\n",
            "-87.934763     3\n",
            "-87.934510     1\n",
            "-87.934014     1\n",
            "              ..\n",
            "-87.524646     1\n",
            "-87.524640     1\n",
            "-87.524589     5\n",
            "-87.524587    14\n",
            " 0.000000     50\n",
            "Name: count, Length: 312226, dtype: int64\n"
          ]
        }
      ],
      "source": [
        "print_function(df, 'LATITUDE')\n",
        "print_function(df, 'LONGITUDE')"
      ]
    },
    {
      "cell_type": "code",
      "execution_count": 63,
      "metadata": {
        "id": "oDLeNx8rtvqJ"
      },
      "outputs": [],
      "source": [
        "df.dropna(subset=['LATITUDE', 'LONGITUDE'], inplace=True)"
      ]
    },
    {
      "cell_type": "markdown",
      "metadata": {
        "id": "uZ2qbj56rcUK"
      },
      "source": [
        "Let's remove NaN values:"
      ]
    },
    {
      "cell_type": "code",
      "execution_count": 64,
      "metadata": {
        "colab": {
          "base_uri": "https://localhost:8080/"
        },
        "id": "GJOp0ipttxck",
        "outputId": "1a2f9613-10d7-411a-ba0f-a9496321cc6f"
      },
      "outputs": [
        {
          "data": {
            "text/plain": [
              "(862214, 33)"
            ]
          },
          "execution_count": 64,
          "metadata": {},
          "output_type": "execute_result"
        }
      ],
      "source": [
        "df.shape"
      ]
    },
    {
      "cell_type": "markdown",
      "metadata": {
        "id": "BLN4pWCfrqn8"
      },
      "source": [
        "Let's save the dataset for EDA:"
      ]
    },
    {
      "cell_type": "code",
      "execution_count": 65,
      "metadata": {
        "id": "SGG8VvRlFY4G"
      },
      "outputs": [],
      "source": [
        "project_dir = os.path.abspath(os.path.join(os.getcwd(), os.pardir))\n",
        "data_dir = os.path.join(project_dir, \"data\", \"raw\")\n",
        "os.makedirs(data_dir, exist_ok=True)\n",
        "\n",
        "output_path = os.path.join(data_dir, 'modified_traffic_crashes.csv')\n",
        "df.to_csv(output_path, index=False)"
      ]
    }
  ],
  "metadata": {
    "colab": {
      "provenance": []
    },
    "kernelspec": {
      "display_name": "DAP",
      "language": "python",
      "name": "python3"
    },
    "language_info": {
      "codemirror_mode": {
        "name": "ipython",
        "version": 3
      },
      "file_extension": ".py",
      "mimetype": "text/x-python",
      "name": "python",
      "nbconvert_exporter": "python",
      "pygments_lexer": "ipython3",
      "version": "3.11.5"
    }
  },
  "nbformat": 4,
  "nbformat_minor": 0
}
