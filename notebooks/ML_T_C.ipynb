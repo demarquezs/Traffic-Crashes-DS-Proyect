{
  "cells": [
    {
      "cell_type": "markdown",
      "metadata": {},
      "source": [
        "<h1 align=\"center\">MACHINE LEARNING CLASSIFICATION MODEL FOR TRAFFIC CRASHES</h1>"
      ]
    },
    {
      "cell_type": "markdown",
      "metadata": {},
      "source": [
        "After viewing and analyzing the data, we'll create a classification Machine Learning model. We need to extract, clean, and process the data to find the best model for the classification job."
      ]
    },
    {
      "cell_type": "markdown",
      "metadata": {},
      "source": [
        "## IMPORTING LIBRARIES"
      ]
    },
    {
      "cell_type": "markdown",
      "metadata": {},
      "source": [
        "We'll import the necessary libraries for preprocessing, creating and evaluating the Machine Learning classification model:"
      ]
    },
    {
      "cell_type": "code",
      "execution_count": 2,
      "metadata": {
        "id": "RSGK4-ZGbOEf"
      },
      "outputs": [],
      "source": [
        "import numpy as np\n",
        "import pandas as pd\n",
        "import os\n",
        "from sklearn.preprocessing import LabelEncoder, StandardScaler\n",
        "from sklearn.model_selection import train_test_split, RandomizedSearchCV\n",
        "from sklearn.metrics import accuracy_score\n",
        "from sklearn.linear_model import LogisticRegression\n",
        "from sklearn.ensemble import RandomForestClassifier, GradientBoostingClassifier, AdaBoostClassifier\n",
        "from sklearn.svm import SVC\n",
        "from sklearn.tree import DecisionTreeClassifier\n",
        "from sklearn.neighbors import KNeighborsClassifier\n",
        "from sklearn.naive_bayes import GaussianNB\n",
        "from sklearn.discriminant_analysis import LinearDiscriminantAnalysis, QuadraticDiscriminantAnalysis\n",
        "from scipy.stats import randint, uniform\n",
        "from time import time\n",
        "import joblib"
      ]
    },
    {
      "cell_type": "markdown",
      "metadata": {},
      "source": [
        "## EXTRACTING THE DATA"
      ]
    },
    {
      "cell_type": "markdown",
      "metadata": {},
      "source": [
        "Let's read df_filtered file for construct our model:"
      ]
    },
    {
      "cell_type": "code",
      "execution_count": 3,
      "metadata": {
        "id": "owTnNUPrlLqM"
      },
      "outputs": [
        {
          "data": {
            "application/vnd.microsoft.datawrangler.viewer.v0+json": {
              "columns": [
                {
                  "name": "index",
                  "rawType": "int64",
                  "type": "integer"
                },
                {
                  "name": "TRAFFIC_CONTROL_DEVICE",
                  "rawType": "object",
                  "type": "string"
                },
                {
                  "name": "DEVICE_CONDITION",
                  "rawType": "object",
                  "type": "string"
                },
                {
                  "name": "FIRST_CRASH_TYPE",
                  "rawType": "object",
                  "type": "string"
                },
                {
                  "name": "TRAFFICWAY_TYPE",
                  "rawType": "object",
                  "type": "string"
                },
                {
                  "name": "REPORT_TYPE",
                  "rawType": "object",
                  "type": "string"
                },
                {
                  "name": "CRASH_TYPE",
                  "rawType": "object",
                  "type": "string"
                },
                {
                  "name": "HIT_AND_RUN_I",
                  "rawType": "object",
                  "type": "string"
                },
                {
                  "name": "DAMAGE",
                  "rawType": "object",
                  "type": "string"
                },
                {
                  "name": "PRIM_CONTRIBUTORY_CAUSE",
                  "rawType": "object",
                  "type": "string"
                },
                {
                  "name": "MOST_SEVERE_INJURY",
                  "rawType": "object",
                  "type": "string"
                },
                {
                  "name": "INJURIES_TOTAL",
                  "rawType": "float64",
                  "type": "float"
                },
                {
                  "name": "INJURIES_FATAL",
                  "rawType": "float64",
                  "type": "float"
                },
                {
                  "name": "INJURIES_INCAPACITATING",
                  "rawType": "float64",
                  "type": "float"
                },
                {
                  "name": "INJURIES_NON_INCAPACITATING",
                  "rawType": "float64",
                  "type": "float"
                },
                {
                  "name": "INJURIES_REPORTED_NOT_EVIDENT",
                  "rawType": "float64",
                  "type": "float"
                },
                {
                  "name": "INJURIES_NO_INDICATION",
                  "rawType": "float64",
                  "type": "float"
                },
                {
                  "name": "CRASH_HOUR",
                  "rawType": "int64",
                  "type": "integer"
                },
                {
                  "name": "CRASH_DAY_OF_WEEK",
                  "rawType": "int64",
                  "type": "integer"
                },
                {
                  "name": "LATITUDE",
                  "rawType": "float64",
                  "type": "float"
                },
                {
                  "name": "LONGITUDE",
                  "rawType": "float64",
                  "type": "float"
                },
                {
                  "name": "MONTH_POLICE_NOTIFIED",
                  "rawType": "int64",
                  "type": "integer"
                },
                {
                  "name": "DAY_POLICE_NOTIFIED",
                  "rawType": "int64",
                  "type": "integer"
                }
              ],
              "conversionMethod": "pd.DataFrame",
              "ref": "6291d494-0cd3-4d5c-9dd3-7a1df140926d",
              "rows": [
                [
                  "34092",
                  "TRAFFIC SIGNAL",
                  "FUNCTIONING PROPERLY",
                  "REAR END",
                  "DIVIDED - W/MEDIAN BARRIER",
                  "NOT ON SCENE (DESK REPORT)",
                  "NO INJURY / DRIVE AWAY",
                  "DA",
                  "$501 - $1,500",
                  "UNABLE TO DETERMINE",
                  "NO INDICATION OF INJURY",
                  "0.0",
                  "0.0",
                  "0.0",
                  "0.0",
                  "0.0",
                  "2.0",
                  "8",
                  "4",
                  "41.7221789796",
                  "-87.5849618216",
                  "10",
                  "27"
                ],
                [
                  "545544",
                  "STOP SIGN/FLASHER",
                  "FUNCTIONING PROPERLY",
                  "ANGLE",
                  "NOT DIVIDED",
                  "ON SCENE",
                  "NO INJURY / DRIVE AWAY",
                  "Y",
                  "OVER $1,500",
                  "UNABLE TO DETERMINE",
                  "NO INDICATION OF INJURY",
                  "0.0",
                  "0.0",
                  "0.0",
                  "0.0",
                  "0.0",
                  "3.0",
                  "21",
                  "2",
                  "41.8752248284",
                  "-87.7253370047",
                  "11",
                  "15"
                ],
                [
                  "638189",
                  "TRAFFIC SIGNAL",
                  "FUNCTIONING PROPERLY",
                  "SIDESWIPE SAME DIRECTION",
                  "NOT DIVIDED",
                  "NOT ON SCENE (DESK REPORT)",
                  "NO INJURY / DRIVE AWAY",
                  "DA",
                  "$501 - $1,500",
                  "UNABLE TO DETERMINE",
                  "NO INDICATION OF INJURY",
                  "0.0",
                  "0.0",
                  "0.0",
                  "0.0",
                  "0.0",
                  "2.0",
                  "13",
                  "7",
                  "41.8925932255",
                  "-87.6243340479",
                  "8",
                  "11"
                ]
              ],
              "shape": {
                "columns": 22,
                "rows": 3
              }
            },
            "text/html": [
              "<div>\n",
              "<style scoped>\n",
              "    .dataframe tbody tr th:only-of-type {\n",
              "        vertical-align: middle;\n",
              "    }\n",
              "\n",
              "    .dataframe tbody tr th {\n",
              "        vertical-align: top;\n",
              "    }\n",
              "\n",
              "    .dataframe thead th {\n",
              "        text-align: right;\n",
              "    }\n",
              "</style>\n",
              "<table border=\"1\" class=\"dataframe\">\n",
              "  <thead>\n",
              "    <tr style=\"text-align: right;\">\n",
              "      <th></th>\n",
              "      <th>TRAFFIC_CONTROL_DEVICE</th>\n",
              "      <th>DEVICE_CONDITION</th>\n",
              "      <th>FIRST_CRASH_TYPE</th>\n",
              "      <th>TRAFFICWAY_TYPE</th>\n",
              "      <th>REPORT_TYPE</th>\n",
              "      <th>CRASH_TYPE</th>\n",
              "      <th>HIT_AND_RUN_I</th>\n",
              "      <th>DAMAGE</th>\n",
              "      <th>PRIM_CONTRIBUTORY_CAUSE</th>\n",
              "      <th>MOST_SEVERE_INJURY</th>\n",
              "      <th>INJURIES_TOTAL</th>\n",
              "      <th>INJURIES_FATAL</th>\n",
              "      <th>INJURIES_INCAPACITATING</th>\n",
              "      <th>INJURIES_NON_INCAPACITATING</th>\n",
              "      <th>INJURIES_REPORTED_NOT_EVIDENT</th>\n",
              "      <th>INJURIES_NO_INDICATION</th>\n",
              "      <th>CRASH_HOUR</th>\n",
              "      <th>CRASH_DAY_OF_WEEK</th>\n",
              "      <th>LATITUDE</th>\n",
              "      <th>LONGITUDE</th>\n",
              "      <th>MONTH_POLICE_NOTIFIED</th>\n",
              "      <th>DAY_POLICE_NOTIFIED</th>\n",
              "    </tr>\n",
              "  </thead>\n",
              "  <tbody>\n",
              "    <tr>\n",
              "      <th>34092</th>\n",
              "      <td>TRAFFIC SIGNAL</td>\n",
              "      <td>FUNCTIONING PROPERLY</td>\n",
              "      <td>REAR END</td>\n",
              "      <td>DIVIDED - W/MEDIAN BARRIER</td>\n",
              "      <td>NOT ON SCENE (DESK REPORT)</td>\n",
              "      <td>NO INJURY / DRIVE AWAY</td>\n",
              "      <td>DA</td>\n",
              "      <td>$501 - $1,500</td>\n",
              "      <td>UNABLE TO DETERMINE</td>\n",
              "      <td>NO INDICATION OF INJURY</td>\n",
              "      <td>0.0</td>\n",
              "      <td>0.0</td>\n",
              "      <td>0.0</td>\n",
              "      <td>0.0</td>\n",
              "      <td>0.0</td>\n",
              "      <td>2.0</td>\n",
              "      <td>8</td>\n",
              "      <td>4</td>\n",
              "      <td>41.722179</td>\n",
              "      <td>-87.584962</td>\n",
              "      <td>10</td>\n",
              "      <td>27</td>\n",
              "    </tr>\n",
              "    <tr>\n",
              "      <th>545544</th>\n",
              "      <td>STOP SIGN/FLASHER</td>\n",
              "      <td>FUNCTIONING PROPERLY</td>\n",
              "      <td>ANGLE</td>\n",
              "      <td>NOT DIVIDED</td>\n",
              "      <td>ON SCENE</td>\n",
              "      <td>NO INJURY / DRIVE AWAY</td>\n",
              "      <td>Y</td>\n",
              "      <td>OVER $1,500</td>\n",
              "      <td>UNABLE TO DETERMINE</td>\n",
              "      <td>NO INDICATION OF INJURY</td>\n",
              "      <td>0.0</td>\n",
              "      <td>0.0</td>\n",
              "      <td>0.0</td>\n",
              "      <td>0.0</td>\n",
              "      <td>0.0</td>\n",
              "      <td>3.0</td>\n",
              "      <td>21</td>\n",
              "      <td>2</td>\n",
              "      <td>41.875225</td>\n",
              "      <td>-87.725337</td>\n",
              "      <td>11</td>\n",
              "      <td>15</td>\n",
              "    </tr>\n",
              "    <tr>\n",
              "      <th>638189</th>\n",
              "      <td>TRAFFIC SIGNAL</td>\n",
              "      <td>FUNCTIONING PROPERLY</td>\n",
              "      <td>SIDESWIPE SAME DIRECTION</td>\n",
              "      <td>NOT DIVIDED</td>\n",
              "      <td>NOT ON SCENE (DESK REPORT)</td>\n",
              "      <td>NO INJURY / DRIVE AWAY</td>\n",
              "      <td>DA</td>\n",
              "      <td>$501 - $1,500</td>\n",
              "      <td>UNABLE TO DETERMINE</td>\n",
              "      <td>NO INDICATION OF INJURY</td>\n",
              "      <td>0.0</td>\n",
              "      <td>0.0</td>\n",
              "      <td>0.0</td>\n",
              "      <td>0.0</td>\n",
              "      <td>0.0</td>\n",
              "      <td>2.0</td>\n",
              "      <td>13</td>\n",
              "      <td>7</td>\n",
              "      <td>41.892593</td>\n",
              "      <td>-87.624334</td>\n",
              "      <td>8</td>\n",
              "      <td>11</td>\n",
              "    </tr>\n",
              "  </tbody>\n",
              "</table>\n",
              "</div>"
            ],
            "text/plain": [
              "       TRAFFIC_CONTROL_DEVICE      DEVICE_CONDITION          FIRST_CRASH_TYPE  \\\n",
              "34092          TRAFFIC SIGNAL  FUNCTIONING PROPERLY                  REAR END   \n",
              "545544      STOP SIGN/FLASHER  FUNCTIONING PROPERLY                     ANGLE   \n",
              "638189         TRAFFIC SIGNAL  FUNCTIONING PROPERLY  SIDESWIPE SAME DIRECTION   \n",
              "\n",
              "                   TRAFFICWAY_TYPE                 REPORT_TYPE  \\\n",
              "34092   DIVIDED - W/MEDIAN BARRIER  NOT ON SCENE (DESK REPORT)   \n",
              "545544                 NOT DIVIDED                    ON SCENE   \n",
              "638189                 NOT DIVIDED  NOT ON SCENE (DESK REPORT)   \n",
              "\n",
              "                    CRASH_TYPE HIT_AND_RUN_I         DAMAGE  \\\n",
              "34092   NO INJURY / DRIVE AWAY            DA  $501 - $1,500   \n",
              "545544  NO INJURY / DRIVE AWAY             Y    OVER $1,500   \n",
              "638189  NO INJURY / DRIVE AWAY            DA  $501 - $1,500   \n",
              "\n",
              "       PRIM_CONTRIBUTORY_CAUSE       MOST_SEVERE_INJURY  INJURIES_TOTAL  \\\n",
              "34092      UNABLE TO DETERMINE  NO INDICATION OF INJURY             0.0   \n",
              "545544     UNABLE TO DETERMINE  NO INDICATION OF INJURY             0.0   \n",
              "638189     UNABLE TO DETERMINE  NO INDICATION OF INJURY             0.0   \n",
              "\n",
              "        INJURIES_FATAL  INJURIES_INCAPACITATING  INJURIES_NON_INCAPACITATING  \\\n",
              "34092              0.0                      0.0                          0.0   \n",
              "545544             0.0                      0.0                          0.0   \n",
              "638189             0.0                      0.0                          0.0   \n",
              "\n",
              "        INJURIES_REPORTED_NOT_EVIDENT  INJURIES_NO_INDICATION  CRASH_HOUR  \\\n",
              "34092                             0.0                     2.0           8   \n",
              "545544                            0.0                     3.0          21   \n",
              "638189                            0.0                     2.0          13   \n",
              "\n",
              "        CRASH_DAY_OF_WEEK   LATITUDE  LONGITUDE  MONTH_POLICE_NOTIFIED  \\\n",
              "34092                   4  41.722179 -87.584962                     10   \n",
              "545544                  2  41.875225 -87.725337                     11   \n",
              "638189                  7  41.892593 -87.624334                      8   \n",
              "\n",
              "        DAY_POLICE_NOTIFIED  \n",
              "34092                    27  \n",
              "545544                   15  \n",
              "638189                   11  "
            ]
          },
          "execution_count": 3,
          "metadata": {},
          "output_type": "execute_result"
        }
      ],
      "source": [
        "pd.set_option('display.max_columns', None)\n",
        "project_dir = os.path.abspath(os.path.join(os.getcwd(), os.pardir))\n",
        "data_dir = os.path.join(project_dir, \"data\", \"processed\")\n",
        "\n",
        "path = os.path.join(data_dir, 'traffic_crashes_for_ml.csv')\n",
        "df= pd.read_csv(path)\n",
        "\n",
        "df.sample(3)\n"
      ]
    },
    {
      "cell_type": "code",
      "execution_count": 4,
      "metadata": {
        "colab": {
          "base_uri": "https://localhost:8080/"
        },
        "id": "weGP4plNctt0",
        "outputId": "9e96965d-9712-4b9c-bb0c-1c2af5e4acdb"
      },
      "outputs": [
        {
          "data": {
            "text/plain": [
              "(862214, 22)"
            ]
          },
          "execution_count": 4,
          "metadata": {},
          "output_type": "execute_result"
        }
      ],
      "source": [
        "df.shape"
      ]
    },
    {
      "cell_type": "markdown",
      "metadata": {},
      "source": [
        "## DATA PREPROCESSING"
      ]
    },
    {
      "cell_type": "markdown",
      "metadata": {},
      "source": [
        "For our model, we need to transform the numeric variables to categorical:"
      ]
    },
    {
      "cell_type": "code",
      "execution_count": 4,
      "metadata": {
        "colab": {
          "base_uri": "https://localhost:8080/"
        },
        "id": "Tgq-IRP_iL3Y",
        "outputId": "de5eed01-ba9b-4ae2-9a2d-56edeae623f7"
      },
      "outputs": [
        {
          "data": {
            "text/plain": [
              "['TRAFFIC_CONTROL_DEVICE',\n",
              " 'DEVICE_CONDITION',\n",
              " 'FIRST_CRASH_TYPE',\n",
              " 'TRAFFICWAY_TYPE',\n",
              " 'REPORT_TYPE',\n",
              " 'CRASH_TYPE',\n",
              " 'HIT_AND_RUN_I',\n",
              " 'DAMAGE',\n",
              " 'PRIM_CONTRIBUTORY_CAUSE',\n",
              " 'MOST_SEVERE_INJURY']"
            ]
          },
          "execution_count": 4,
          "metadata": {},
          "output_type": "execute_result"
        }
      ],
      "source": [
        "categorical_cols = df.select_dtypes(exclude=['number']).columns.tolist()\n",
        "categorical_cols"
      ]
    },
    {
      "cell_type": "code",
      "execution_count": 5,
      "metadata": {
        "colab": {
          "base_uri": "https://localhost:8080/",
          "height": 132
        },
        "id": "mvAzt_v5iQ4x",
        "outputId": "b5ad3f4a-4e20-4294-c6ea-e70eb6f840ac"
      },
      "outputs": [
        {
          "data": {
            "text/html": [
              "<div>\n",
              "<style scoped>\n",
              "    .dataframe tbody tr th:only-of-type {\n",
              "        vertical-align: middle;\n",
              "    }\n",
              "\n",
              "    .dataframe tbody tr th {\n",
              "        vertical-align: top;\n",
              "    }\n",
              "\n",
              "    .dataframe thead th {\n",
              "        text-align: right;\n",
              "    }\n",
              "</style>\n",
              "<table border=\"1\" class=\"dataframe\">\n",
              "  <thead>\n",
              "    <tr style=\"text-align: right;\">\n",
              "      <th></th>\n",
              "      <th>TRAFFIC_CONTROL_DEVICE</th>\n",
              "      <th>DEVICE_CONDITION</th>\n",
              "      <th>FIRST_CRASH_TYPE</th>\n",
              "      <th>TRAFFICWAY_TYPE</th>\n",
              "      <th>REPORT_TYPE</th>\n",
              "      <th>CRASH_TYPE</th>\n",
              "      <th>HIT_AND_RUN_I</th>\n",
              "      <th>DAMAGE</th>\n",
              "      <th>PRIM_CONTRIBUTORY_CAUSE</th>\n",
              "      <th>MOST_SEVERE_INJURY</th>\n",
              "      <th>INJURIES_TOTAL</th>\n",
              "      <th>INJURIES_FATAL</th>\n",
              "      <th>INJURIES_INCAPACITATING</th>\n",
              "      <th>INJURIES_NON_INCAPACITATING</th>\n",
              "      <th>INJURIES_REPORTED_NOT_EVIDENT</th>\n",
              "      <th>INJURIES_NO_INDICATION</th>\n",
              "      <th>CRASH_HOUR</th>\n",
              "      <th>CRASH_DAY_OF_WEEK</th>\n",
              "      <th>LATITUDE</th>\n",
              "      <th>LONGITUDE</th>\n",
              "      <th>MONTH_POLICE_NOTIFIED</th>\n",
              "      <th>DAY_POLICE_NOTIFIED</th>\n",
              "    </tr>\n",
              "  </thead>\n",
              "  <tbody>\n",
              "    <tr>\n",
              "      <th>0</th>\n",
              "      <td>16</td>\n",
              "      <td>1</td>\n",
              "      <td>7</td>\n",
              "      <td>2</td>\n",
              "      <td>2</td>\n",
              "      <td>1</td>\n",
              "      <td>2</td>\n",
              "      <td>2</td>\n",
              "      <td>17</td>\n",
              "      <td>2</td>\n",
              "      <td>0.0</td>\n",
              "      <td>0.0</td>\n",
              "      <td>0.0</td>\n",
              "      <td>0.0</td>\n",
              "      <td>0.0</td>\n",
              "      <td>1.0</td>\n",
              "      <td>14</td>\n",
              "      <td>7</td>\n",
              "      <td>41.854120</td>\n",
              "      <td>-87.665902</td>\n",
              "      <td>7</td>\n",
              "      <td>29</td>\n",
              "    </tr>\n",
              "    <tr>\n",
              "      <th>1</th>\n",
              "      <td>4</td>\n",
              "      <td>3</td>\n",
              "      <td>8</td>\n",
              "      <td>8</td>\n",
              "      <td>2</td>\n",
              "      <td>0</td>\n",
              "      <td>0</td>\n",
              "      <td>1</td>\n",
              "      <td>17</td>\n",
              "      <td>3</td>\n",
              "      <td>1.0</td>\n",
              "      <td>0.0</td>\n",
              "      <td>0.0</td>\n",
              "      <td>1.0</td>\n",
              "      <td>0.0</td>\n",
              "      <td>1.0</td>\n",
              "      <td>17</td>\n",
              "      <td>6</td>\n",
              "      <td>41.942976</td>\n",
              "      <td>-87.761883</td>\n",
              "      <td>8</td>\n",
              "      <td>18</td>\n",
              "    </tr>\n",
              "  </tbody>\n",
              "</table>\n",
              "</div>"
            ],
            "text/plain": [
              "   TRAFFIC_CONTROL_DEVICE  DEVICE_CONDITION  FIRST_CRASH_TYPE  \\\n",
              "0                      16                 1                 7   \n",
              "1                       4                 3                 8   \n",
              "\n",
              "   TRAFFICWAY_TYPE  REPORT_TYPE  CRASH_TYPE  HIT_AND_RUN_I  DAMAGE  \\\n",
              "0                2            2           1              2       2   \n",
              "1                8            2           0              0       1   \n",
              "\n",
              "   PRIM_CONTRIBUTORY_CAUSE  MOST_SEVERE_INJURY  INJURIES_TOTAL  \\\n",
              "0                       17                   2             0.0   \n",
              "1                       17                   3             1.0   \n",
              "\n",
              "   INJURIES_FATAL  INJURIES_INCAPACITATING  INJURIES_NON_INCAPACITATING  \\\n",
              "0             0.0                      0.0                          0.0   \n",
              "1             0.0                      0.0                          1.0   \n",
              "\n",
              "   INJURIES_REPORTED_NOT_EVIDENT  INJURIES_NO_INDICATION  CRASH_HOUR  \\\n",
              "0                            0.0                     1.0          14   \n",
              "1                            0.0                     1.0          17   \n",
              "\n",
              "   CRASH_DAY_OF_WEEK   LATITUDE  LONGITUDE  MONTH_POLICE_NOTIFIED  \\\n",
              "0                  7  41.854120 -87.665902                      7   \n",
              "1                  6  41.942976 -87.761883                      8   \n",
              "\n",
              "   DAY_POLICE_NOTIFIED  \n",
              "0                   29  \n",
              "1                   18  "
            ]
          },
          "execution_count": 5,
          "metadata": {},
          "output_type": "execute_result"
        }
      ],
      "source": [
        "label_encoders = {}\n",
        "for col in categorical_cols:\n",
        "    le = LabelEncoder()\n",
        "    df[col] = le.fit_transform(df[col])\n",
        "    label_encoders[col] = le\n",
        "\n",
        "df.head(2)"
      ]
    },
    {
      "cell_type": "markdown",
      "metadata": {},
      "source": [
        "Now, we have the final dataset for ML processing:"
      ]
    },
    {
      "cell_type": "code",
      "execution_count": 6,
      "metadata": {
        "id": "Ja8sOqc3eaCv"
      },
      "outputs": [],
      "source": [
        "df_to_ml= df.sample(round(df.shape[0]*0.05))"
      ]
    },
    {
      "cell_type": "code",
      "execution_count": 7,
      "metadata": {
        "colab": {
          "base_uri": "https://localhost:8080/"
        },
        "id": "zvaypVWlhAc9",
        "outputId": "e866018d-1038-4a69-8cef-b8c501ad1098"
      },
      "outputs": [
        {
          "data": {
            "text/plain": [
              "(43111, 22)"
            ]
          },
          "execution_count": 7,
          "metadata": {},
          "output_type": "execute_result"
        }
      ],
      "source": [
        "df_to_ml.shape"
      ]
    },
    {
      "cell_type": "markdown",
      "metadata": {},
      "source": [
        "## GENERATING A CLASSIFICATION MACHINE LEARNING MODEL"
      ]
    },
    {
      "cell_type": "markdown",
      "metadata": {},
      "source": [
        "We'll create a function that reduces the dimensionality, trains multiple models, selects the best model and save it:"
      ]
    },
    {
      "cell_type": "code",
      "execution_count": 8,
      "metadata": {
        "id": "ZUOs3fGohyw9"
      },
      "outputs": [],
      "source": [
        "def train_and_evaluate_models(df, target_column, models, param_distributions, n_iter):\n",
        "    X = df.drop(target_column, axis=1)\n",
        "    y = df[target_column]\n",
        "\n",
        "\n",
        "    scaler = StandardScaler()\n",
        "    X_scaled = scaler.fit_transform(X)\n",
        "    X_scaled = pd.DataFrame(X_scaled, columns=X.columns)\n",
        "\n",
        "\n",
        "    X_train, X_val, y_train, y_val = train_test_split(X_scaled, y, test_size=0.25, random_state=42)\n",
        "\n",
        "\n",
        "    best_model_overall = None\n",
        "    best_model_name = None\n",
        "    best_accuracy = 0\n",
        "\n",
        "    for name, model in models.items():\n",
        "        print(f\"\\nTraining and Evaluating {name}:\")\n",
        "\n",
        "\n",
        "        start_time = time()\n",
        "\n",
        "  \n",
        "        random_search = RandomizedSearchCV(estimator=model,  param_distributions=param_distributions[name], n_iter=n_iter, cv=5, scoring='accuracy', \n",
        "                                           n_jobs=-1)\n",
        "        \n",
        "        random_search.fit(X_train, y_train)\n",
        "\n",
        "\n",
        "        best_estimator = random_search.best_estimator_\n",
        "        print(f\"Best params for {name}: {random_search.best_params_}\")\n",
        "\n",
        "\n",
        "        y_pred = best_estimator.predict(X_val)\n",
        "        accuracy = accuracy_score(y_val, y_pred)\n",
        "        print(f'{name}: Accuracy = {accuracy:.4f}')\n",
        "\n",
        "\n",
        "        end_time = time()\n",
        "        print(f\"Training time for {name}: {end_time - start_time:.2f} seconds\")\n",
        "\n",
        "\n",
        "        if accuracy > best_accuracy:\n",
        "            best_accuracy = accuracy\n",
        "            best_model_overall = best_estimator\n",
        "            best_model_name = name\n",
        "\n",
        "    print(f'\\n🏆 Best model: {best_model_name} with accuracy {best_accuracy:.4f}')\n",
        "\n",
        "    # Guardar el mejor modelo\n",
        "    project_dir = os.path.abspath(os.path.join(os.getcwd(), os.pardir))\n",
        "    model_dir = os.path.join(project_dir, \"models\")\n",
        "    os.makedirs(model_dir, exist_ok=True)\n",
        "\n",
        "    best_model_path = os.path.join(model_dir, \"best_model.pkl\")\n",
        "    joblib.dump(best_model_overall, best_model_path)\n",
        "    print(f\"✅ Model saved in: {best_model_path}\")\n"
      ]
    },
    {
      "cell_type": "markdown",
      "metadata": {},
      "source": [
        "Now, let's define the models and their hyperparameter search spaces:"
      ]
    },
    {
      "cell_type": "code",
      "execution_count": 9,
      "metadata": {
        "id": "nElfIGKshKeN"
      },
      "outputs": [],
      "source": [
        "param_distributions = {\n",
        "    'RandomForestClassifier': {\n",
        "        'n_estimators': randint(50, 200),\n",
        "        'max_depth': randint(10, 50),\n",
        "        'min_samples_split': randint(2, 10),\n",
        "        'min_samples_leaf': randint(1, 5)\n",
        "    },\n",
        "    'GradientBoostingClassifier': {\n",
        "        'n_estimators': randint(50, 200),\n",
        "        'learning_rate': uniform(0.01, 0.3),\n",
        "        'max_depth': randint(3, 10),\n",
        "        'min_samples_split': randint(2, 10)\n",
        "    },\n",
        "    'AdaBoostClassifier': {\n",
        "        'n_estimators': randint(50, 200),\n",
        "        'learning_rate': uniform(0.01, 0.3)\n",
        "    },\n",
        "    'LogisticRegression': {\n",
        "        'C': uniform(0.1, 10),\n",
        "        'penalty': ['l1', 'l2'],\n",
        "        'solver': ['liblinear', 'saga']\n",
        "    },\n",
        "\n",
        "    'DecisionTreeClassifier': {\n",
        "        'max_depth': randint(1, 20),\n",
        "        'min_samples_split': randint(2, 10),\n",
        "        'min_samples_leaf': randint(1, 5)\n",
        "    },\n",
        "    'KNeighborsClassifier': {\n",
        "        'n_neighbors': randint(3, 15)\n",
        "    }\n",
        "\n",
        "}\n",
        "\n",
        "models = {\n",
        "    'RandomForestClassifier': RandomForestClassifier(),\n",
        "    'GradientBoostingClassifier': GradientBoostingClassifier(),\n",
        "    'AdaBoostClassifier': AdaBoostClassifier(),\n",
        "    'LogisticRegression': LogisticRegression(),\n",
        "    'DecisionTreeClassifier': DecisionTreeClassifier(),\n",
        "    'KNeighborsClassifier': KNeighborsClassifier(),\n",
        "}"
      ]
    },
    {
      "cell_type": "markdown",
      "metadata": {},
      "source": [
        "Use the defined function:"
      ]
    },
    {
      "cell_type": "code",
      "execution_count": 10,
      "metadata": {
        "colab": {
          "base_uri": "https://localhost:8080/"
        },
        "id": "YvTVPvbievk0",
        "outputId": "cb579ee0-6cc2-425c-937d-0df515da2bbe"
      },
      "outputs": [
        {
          "name": "stdout",
          "output_type": "stream",
          "text": [
            "Sample size: 43111\n",
            "Number of iteration: 5\n",
            "\n",
            "Training and Evaluating RandomForestClassifier:\n",
            "Best params for RandomForestClassifier: {'max_depth': 23, 'min_samples_leaf': 1, 'min_samples_split': 7, 'n_estimators': 127}\n",
            "RandomForestClassifier: Accuracy = 0.8981\n",
            "Training time for RandomForestClassifier: 55.58 seconds\n",
            "\n",
            "Training and Evaluating GradientBoostingClassifier:\n",
            "Best params for GradientBoostingClassifier: {'learning_rate': 0.0738720132669246, 'max_depth': 3, 'min_samples_split': 7, 'n_estimators': 153}\n",
            "GradientBoostingClassifier: Accuracy = 0.9004\n",
            "Training time for GradientBoostingClassifier: 102.70 seconds\n",
            "\n",
            "Training and Evaluating AdaBoostClassifier:\n",
            "Best params for AdaBoostClassifier: {'learning_rate': 0.2700261315772635, 'n_estimators': 134}\n",
            "AdaBoostClassifier: Accuracy = 0.8954\n",
            "Training time for AdaBoostClassifier: 32.57 seconds\n",
            "\n",
            "Training and Evaluating LogisticRegression:\n",
            "Best params for LogisticRegression: {'C': 7.530807338739853, 'penalty': 'l1', 'solver': 'liblinear'}\n",
            "LogisticRegression: Accuracy = 0.8899\n",
            "Training time for LogisticRegression: 8.35 seconds\n",
            "\n",
            "Training and Evaluating DecisionTreeClassifier:\n",
            "Best params for DecisionTreeClassifier: {'max_depth': 8, 'min_samples_leaf': 3, 'min_samples_split': 7}\n",
            "DecisionTreeClassifier: Accuracy = 0.8952\n",
            "Training time for DecisionTreeClassifier: 1.28 seconds\n",
            "\n",
            "Training and Evaluating KNeighborsClassifier:\n",
            "Best params for KNeighborsClassifier: {'n_neighbors': 13}\n",
            "KNeighborsClassifier: Accuracy = 0.8857\n",
            "Training time for KNeighborsClassifier: 8.44 seconds\n",
            "\n",
            "🏆 Best model: GradientBoostingClassifier with accuracy 0.9004\n",
            "✅ Model saved in: c:\\Users\\ingde\\Documents\\DAP\\Traffic Crashes - Crashes\\models\\best_model.pkl\n"
          ]
        }
      ],
      "source": [
        "n_iter=5\n",
        "\n",
        "print(f\"Sample size: {df_to_ml.shape[0]}\")\n",
        "print(f\"Number of iteration: {n_iter}\")\n",
        "\n",
        "best_model = train_and_evaluate_models(df_to_ml, 'CRASH_TYPE', models, param_distributions, n_iter)\n"
      ]
    },
    {
      "cell_type": "markdown",
      "metadata": {},
      "source": [
        "We see that RandomForestClassifier and GradientBoostingClassifier have the best accuracy, so we apply the defined function for only these models with expanded data and increased iterations:"
      ]
    },
    {
      "cell_type": "code",
      "execution_count": 11,
      "metadata": {
        "id": "y8xKOSrYl3F2"
      },
      "outputs": [],
      "source": [
        "param_distributions_2 = {\n",
        "    \n",
        "    'RandomForestClassifier': {\n",
        "        'n_estimators': randint(50, 200),\n",
        "        'max_depth': randint(10, 50),\n",
        "        'min_samples_split': randint(2, 10),\n",
        "        'min_samples_leaf': randint(1, 5)\n",
        "                             },\n",
        "    'GradientBoostingClassifier': {\n",
        "        'n_estimators': randint(50, 200),\n",
        "        'learning_rate': uniform(0.01, 0.3),\n",
        "        'max_depth': randint(3, 10),\n",
        "        'min_samples_split': randint(2, 10)\n",
        "                             },\n",
        "}\n",
        "\n",
        "# Define models\n",
        "models_2 = {\n",
        "    'RandomForestClassifier': RandomForestClassifier(),\n",
        "    'GradientBoostingClassifier': GradientBoostingClassifier(),\n",
        "\n",
        "}"
      ]
    },
    {
      "cell_type": "code",
      "execution_count": 28,
      "metadata": {
        "colab": {
          "base_uri": "https://localhost:8080/"
        },
        "id": "5yeUo2oFlu0D",
        "outputId": "81a2588f-32bc-44c1-ecec-eeaae76c2e7b"
      },
      "outputs": [
        {
          "data": {
            "text/plain": [
              "(431107, 22)"
            ]
          },
          "execution_count": 28,
          "metadata": {},
          "output_type": "execute_result"
        }
      ],
      "source": [
        "df_to_ml_2= df.sample(round(df.shape[0]*0.5))\n",
        "df_to_ml_2.shape"
      ]
    },
    {
      "cell_type": "code",
      "execution_count": 30,
      "metadata": {
        "colab": {
          "base_uri": "https://localhost:8080/",
          "height": 460
        },
        "id": "JeToI_eTmF2V",
        "outputId": "3846ce1c-14b7-4487-d21d-58881cd73084"
      },
      "outputs": [
        {
          "name": "stdout",
          "output_type": "stream",
          "text": [
            "Sample size: 431107\n",
            "Number of iteration: 50\n",
            "\n",
            "Training and Evaluating RandomForestClassifier:\n",
            "Best params for RandomForestClassifier: {'max_depth': 47, 'min_samples_leaf': 4, 'min_samples_split': 8, 'n_estimators': 195}\n",
            "RandomForestClassifier: Accuracy = 0.8991\n",
            "Training time for RandomForestClassifier: 3097.42 seconds\n",
            "\n",
            "Training and Evaluating GradientBoostingClassifier:\n",
            "Best params for GradientBoostingClassifier: {'learning_rate': 0.0883692634160222, 'max_depth': 6, 'min_samples_split': 7, 'n_estimators': 188}\n",
            "GradientBoostingClassifier: Accuracy = 0.9014\n",
            "Training time for GradientBoostingClassifier: 8418.56 seconds\n",
            "\n",
            "🏆 Best model: GradientBoostingClassifier with accuracy 0.9014\n",
            "✅ Model saved in: c:\\Users\\ingde\\Documents\\DAP\\Traffic Crashes - Crashes\\models\\best_model.pkl\n"
          ]
        }
      ],
      "source": [
        "n_iter_2=50\n",
        "\n",
        "print(f\"Sample size: {df_to_ml_2.shape[0]}\")\n",
        "print(f\"Number of iteration: {n_iter_2}\")\n",
        "\n",
        "best_model = train_and_evaluate_models(df_to_ml_2, 'CRASH_TYPE', models_2, param_distributions_2, n_iter_2)"
      ]
    }
  ],
  "metadata": {
    "colab": {
      "provenance": []
    },
    "kernelspec": {
      "display_name": "DAP",
      "language": "python",
      "name": "python3"
    },
    "language_info": {
      "codemirror_mode": {
        "name": "ipython",
        "version": 3
      },
      "file_extension": ".py",
      "mimetype": "text/x-python",
      "name": "python",
      "nbconvert_exporter": "python",
      "pygments_lexer": "ipython3",
      "version": "3.11.5"
    }
  },
  "nbformat": 4,
  "nbformat_minor": 0
}
